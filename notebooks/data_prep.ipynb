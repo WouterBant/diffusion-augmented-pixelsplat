{
 "cells": [
  {
   "cell_type": "code",
   "execution_count": 1,
   "metadata": {},
   "outputs": [
    {
     "name": "stdout",
     "output_type": "stream",
     "text": [
      "\u001b[0m\u001b[01;34mdiffusion-augmented-pixelsplat\u001b[0m/  \u001b[01;32mgetting_started.ipynb\u001b[0m*  \u001b[01;32mre10k_test_only.zip\u001b[0m*\n",
      "\u001b[01;34mexamples\u001b[0m/                        \u001b[01;34mre10k\u001b[0m/                  \u001b[01;32mre10k_test_only.zip.1\u001b[0m*\n"
     ]
    }
   ],
   "source": [
    "%ls"
   ]
  },
  {
   "cell_type": "code",
   "execution_count": 1,
   "metadata": {},
   "outputs": [
    {
     "name": "stdout",
     "output_type": "stream",
     "text": [
      "--2024-04-25 11:33:28--  http://schadenfreude.csail.mit.edu:8000/re10k_test_only.zip\n",
      "Resolving schadenfreude.csail.mit.edu (schadenfreude.csail.mit.edu)... "
     ]
    },
    {
     "name": "stdout",
     "output_type": "stream",
     "text": [
      "128.30.195.99\n",
      "Connecting to schadenfreude.csail.mit.edu (schadenfreude.csail.mit.edu)|128.30.195.99|:8000... connected.\n",
      "HTTP request sent, awaiting response... 200 OK\n",
      "Length: 55604889849 (52G) [application/zip]\n",
      "Saving to: ‘re10k_test_only.zip.1’\n",
      "\n",
      "re10k_test_only.zip   0%[                    ] 147.23M  92.0MB/s               ^C\n"
     ]
    }
   ],
   "source": [
    "# !wget http://schadenfreude.csail.mit.edu:8000/re10k_test_only.zip\n"
   ]
  },
  {
   "cell_type": "code",
   "execution_count": 1,
   "metadata": {},
   "outputs": [
    {
     "name": "stdout",
     "output_type": "stream",
     "text": [
      "Archive:  re10k_test_only.zip\n",
      "   creating: re10k/\n",
      "   creating: re10k/test/\n",
      "  inflating: re10k/test/000063.torch  "
     ]
    },
    {
     "name": "stdout",
     "output_type": "stream",
     "text": [
      "\n",
      "  inflating: re10k/test/000515.torch  \n",
      "  inflating: re10k/test/000283.torch  \n",
      "  inflating: re10k/test/000217.torch  \n",
      "  inflating: re10k/test/000174.torch  \n",
      "  inflating: re10k/test/000209.torch  \n",
      "  inflating: re10k/test/000031.torch  \n",
      "  inflating: re10k/test/000079.torch  \n",
      "  inflating: re10k/test/000291.torch  \n",
      "  inflating: re10k/test/000463.torch  \n",
      "  inflating: re10k/test/000163.torch  \n",
      "  inflating: re10k/test/000317.torch  \n",
      "  inflating: re10k/test/000386.torch  \n",
      "  inflating: re10k/test/000097.torch  \n",
      "  inflating: re10k/test/000128.torch  \n",
      "  inflating: re10k/test/000184.torch  \n",
      "  inflating: re10k/test/000347.torch  \n",
      "  inflating: re10k/test/000040.torch  \n",
      "  inflating: re10k/test/000445.torch  \n",
      "  inflating: re10k/test/000249.torch  \n",
      "  inflating: re10k/test/000107.torch  \n",
      "  inflating: re10k/test/000001.torch  \n",
      "  inflating: re10k/test/000158.torch  \n",
      "  inflating: re10k/test/000407.torch  \n",
      "  inflating: re10k/test/000002.torch  \n",
      "  inflating: re10k/test/000295.torch  \n",
      "  inflating: re10k/test/000032.torch  \n",
      "  inflating: re10k/test/000528.torch  \n",
      "  inflating: re10k/test/000052.torch  \n",
      "  inflating: re10k/test/000206.torch  \n",
      "  inflating: re10k/test/000450.torch  \n",
      "  inflating: re10k/test/000318.torch  \n",
      "  inflating: re10k/test/000458.torch  \n",
      "  inflating: re10k/test/000080.torch  \n",
      "  inflating: re10k/test/000049.torch  \n",
      "  inflating: re10k/test/000210.torch  \n",
      "  inflating: re10k/test/000247.torch  \n",
      "  inflating: re10k/test/000214.torch  \n",
      "  inflating: re10k/test/000047.torch  \n",
      "  inflating: re10k/test/000069.torch  \n",
      "  inflating: re10k/test/000229.torch  \n",
      "  inflating: re10k/test/000385.torch  \n",
      "  inflating: re10k/test/000042.torch  \n",
      "  inflating: re10k/test/000284.torch  \n",
      "  inflating: re10k/test/000293.torch  \n",
      "  inflating: re10k/test/000166.torch  \n",
      "  inflating: re10k/test/000340.torch  \n",
      "  inflating: re10k/test/000314.torch  \n",
      "  inflating: re10k/test/000033.torch  \n",
      "  inflating: re10k/test/000333.torch  \n",
      "  inflating: re10k/test/000388.torch  \n",
      "  inflating: re10k/test/000168.torch  \n",
      "  inflating: re10k/test/000130.torch  \n",
      "  inflating: re10k/test/000404.torch  \n",
      "  inflating: re10k/test/000277.torch  \n",
      "  inflating: re10k/test/000306.torch  \n",
      "  inflating: re10k/test/000195.torch  \n",
      "  inflating: re10k/test/000397.torch  \n",
      "  inflating: re10k/test/000316.torch  \n",
      "  inflating: re10k/test/000326.torch  \n",
      "  inflating: re10k/test/000053.torch  \n",
      "  inflating: re10k/test/000148.torch  \n",
      "  inflating: re10k/test/000527.torch  \n",
      "  inflating: re10k/test/000501.torch  \n",
      "  inflating: re10k/test/000204.torch  \n",
      "  inflating: re10k/test/000054.torch  \n",
      "  inflating: re10k/test/000437.torch  \n",
      "  inflating: re10k/test/000112.torch  \n",
      "  inflating: re10k/test/000102.torch  \n",
      "  inflating: re10k/test/000085.torch  \n",
      "  inflating: re10k/test/000280.torch  \n",
      "  inflating: re10k/test/000381.torch  \n",
      "  inflating: re10k/test/000393.torch  \n",
      "  inflating: re10k/test/000309.torch  \n",
      "  inflating: re10k/test/000530.torch  \n",
      "  inflating: re10k/test/000459.torch  \n",
      "  inflating: re10k/test/000237.torch  \n",
      "  inflating: re10k/test/000219.torch  \n",
      "  inflating: re10k/test/000476.torch  \n",
      "  inflating: re10k/test/000440.torch  \n",
      "  inflating: re10k/test/000025.torch  \n",
      "  inflating: re10k/test/000099.torch  \n",
      "  inflating: re10k/test/000508.torch  \n",
      "  inflating: re10k/test/000263.torch  \n",
      "  inflating: re10k/test/000521.torch  \n",
      "  inflating: re10k/test/000312.torch  \n",
      "  inflating: re10k/test/000066.torch  \n",
      "  inflating: re10k/test/000269.torch  \n",
      "  inflating: re10k/test/000019.torch  \n",
      "  inflating: re10k/test/000304.torch  \n",
      "  inflating: re10k/test/000338.torch  \n",
      "  inflating: re10k/test/000244.torch  \n",
      "  inflating: re10k/test/000447.torch  \n",
      "  inflating: re10k/test/000178.torch  \n",
      "  inflating: re10k/test/000356.torch  \n",
      "  inflating: re10k/test/000072.torch  \n",
      "  inflating: re10k/test/000067.torch  \n",
      "  inflating: re10k/test/000542.torch  \n",
      "  inflating: re10k/test/000300.torch  \n",
      "  inflating: re10k/test/000308.torch  \n",
      "  inflating: re10k/test/000159.torch  \n",
      "  inflating: re10k/test/000230.torch  \n",
      "  inflating: re10k/test/000391.torch  \n",
      "  inflating: re10k/test/000034.torch  \n",
      "  inflating: re10k/test/000377.torch  \n",
      "  inflating: re10k/test/000119.torch  \n",
      "  inflating: re10k/test/000024.torch  \n",
      "  inflating: re10k/test/000022.torch  \n",
      "  inflating: re10k/test/000188.torch  \n",
      "  inflating: re10k/test/000371.torch  \n",
      "  inflating: re10k/test/000461.torch  \n",
      "  inflating: re10k/test/000355.torch  \n",
      "  inflating: re10k/test/000100.torch  \n",
      "  inflating: re10k/test/000272.torch  \n",
      "  inflating: re10k/test/000299.torch  \n",
      "  inflating: re10k/test/000175.torch  \n",
      "  inflating: re10k/test/000433.torch  \n",
      "  inflating: re10k/test/000181.torch  \n",
      "  inflating: re10k/test/000434.torch  \n",
      "  inflating: re10k/test/000012.torch  \n",
      "  inflating: re10k/test/000123.torch  \n",
      "  inflating: re10k/test/000233.torch  \n",
      "  inflating: re10k/test/000423.torch  \n",
      "  inflating: re10k/test/000138.torch  \n",
      "  inflating: re10k/test/index.json   \n",
      "  inflating: re10k/test/000287.torch  \n",
      "  inflating: re10k/test/000096.torch  \n",
      "  inflating: re10k/test/000235.torch  \n",
      "  inflating: re10k/test/000014.torch  \n",
      "  inflating: re10k/test/000078.torch  \n",
      "  inflating: re10k/test/000336.torch  \n",
      "  inflating: re10k/test/000383.torch  \n",
      "  inflating: re10k/test/000006.torch  \n",
      "  inflating: re10k/test/000232.torch  \n",
      "  inflating: re10k/test/000103.torch  \n",
      "  inflating: re10k/test/000349.torch  \n",
      "  inflating: re10k/test/000248.torch  \n",
      "  inflating: re10k/test/000390.torch  \n",
      "  inflating: re10k/test/000493.torch  \n",
      "  inflating: re10k/test/000451.torch  \n",
      "  inflating: re10k/test/000207.torch  \n",
      "  inflating: re10k/test/000147.torch  \n",
      "  inflating: re10k/test/000372.torch  \n",
      "  inflating: re10k/test/000364.torch  \n",
      "  inflating: re10k/test/000187.torch  \n",
      "  inflating: re10k/test/000218.torch  \n",
      "  inflating: re10k/test/000363.torch  \n",
      "  inflating: re10k/test/000477.torch  \n",
      "  inflating: re10k/test/000351.torch  \n",
      "  inflating: re10k/test/000525.torch  \n",
      "  inflating: re10k/test/000127.torch  \n",
      "  inflating: re10k/test/000087.torch  \n",
      "  inflating: re10k/test/000186.torch  \n",
      "  inflating: re10k/test/000039.torch  \n",
      "  inflating: re10k/test/000464.torch  \n",
      "  inflating: re10k/test/000416.torch  \n",
      "  inflating: re10k/test/000268.torch  \n",
      "  inflating: re10k/test/000236.torch  \n",
      "  inflating: re10k/test/000016.torch  \n",
      "  inflating: re10k/test/000167.torch  \n",
      "  inflating: re10k/test/000514.torch  \n",
      "  inflating: re10k/test/000402.torch  \n",
      "  inflating: re10k/test/000150.torch  \n",
      "  inflating: re10k/test/000506.torch  \n",
      "  inflating: re10k/test/000048.torch  \n",
      "  inflating: re10k/test/000114.torch  \n",
      "  inflating: re10k/test/000411.torch  \n",
      "  inflating: re10k/test/000296.torch  \n",
      "  inflating: re10k/test/000265.torch  \n",
      "  inflating: re10k/test/000160.torch  \n",
      "  inflating: re10k/test/000227.torch  \n",
      "  inflating: re10k/test/000505.torch  \n",
      "  inflating: re10k/test/000257.torch  \n",
      "  inflating: re10k/test/000327.torch  \n",
      "  inflating: re10k/test/000487.torch  \n",
      "  inflating: re10k/test/000243.torch  \n",
      "  inflating: re10k/test/000086.torch  \n",
      "  inflating: re10k/test/000417.torch  \n",
      "  inflating: re10k/test/000522.torch  \n",
      "  inflating: re10k/test/000442.torch  \n",
      "  inflating: re10k/test/000323.torch  \n",
      "  inflating: re10k/test/000473.torch  \n",
      "  inflating: re10k/test/000141.torch  \n",
      "  inflating: re10k/test/000062.torch  \n",
      "  inflating: re10k/test/000281.torch  \n",
      "  inflating: re10k/test/000483.torch  \n",
      "  inflating: re10k/test/000231.torch  \n",
      "  inflating: re10k/test/000367.torch  \n",
      "  inflating: re10k/test/000111.torch  \n",
      "  inflating: re10k/test/000177.torch  \n",
      "  inflating: re10k/test/000140.torch  \n",
      "  inflating: re10k/test/000359.torch  \n",
      "  inflating: re10k/test/000211.torch  \n",
      "  inflating: re10k/test/000068.torch  \n",
      "  inflating: re10k/test/000325.torch  \n",
      "  inflating: re10k/test/000131.torch  \n",
      "  inflating: re10k/test/000406.torch  \n",
      "  inflating: re10k/test/000401.torch  \n",
      "  inflating: re10k/test/000352.torch  \n",
      "  inflating: re10k/test/000029.torch  \n",
      "  inflating: re10k/test/000134.torch  \n",
      "  inflating: re10k/test/000378.torch  \n",
      "  inflating: re10k/test/000246.torch  \n",
      "  inflating: re10k/test/000274.torch  \n",
      "  inflating: re10k/test/000270.torch  \n",
      "  inflating: re10k/test/000129.torch  \n",
      "  inflating: re10k/test/000135.torch  \n",
      "  inflating: re10k/test/000261.torch  \n",
      "  inflating: re10k/test/000329.torch  \n",
      "  inflating: re10k/test/000194.torch  \n",
      "  inflating: re10k/test/000358.torch  \n",
      "  inflating: re10k/test/000139.torch  \n",
      "  inflating: re10k/test/000474.torch  \n",
      "  inflating: re10k/test/000090.torch  \n",
      "  inflating: re10k/test/000198.torch  \n",
      "  inflating: re10k/test/000492.torch  \n",
      "  inflating: re10k/test/000023.torch  \n",
      "  inflating: re10k/test/000456.torch  \n",
      "  inflating: re10k/test/000350.torch  \n",
      "  inflating: re10k/test/000170.torch  \n",
      "  inflating: re10k/test/000511.torch  \n",
      "  inflating: re10k/test/000152.torch  \n",
      "  inflating: re10k/test/000297.torch  \n",
      "  inflating: re10k/test/000041.torch  \n",
      "  inflating: re10k/test/000302.torch  \n",
      "  inflating: re10k/test/000126.torch  \n",
      "  inflating: re10k/test/000395.torch  \n",
      "  inflating: re10k/test/000015.torch  \n",
      "  inflating: re10k/test/000018.torch  \n",
      "  inflating: re10k/test/000485.torch  \n",
      "  inflating: re10k/test/000484.torch  \n",
      "  inflating: re10k/test/000118.torch  \n",
      "  inflating: re10k/test/000120.torch  \n",
      "  inflating: re10k/test/000051.torch  \n",
      "  inflating: re10k/test/000169.torch  \n",
      "  inflating: re10k/test/000373.torch  \n",
      "  inflating: re10k/test/000384.torch  \n",
      "  inflating: re10k/test/000331.torch  \n",
      "  inflating: re10k/test/000156.torch  \n",
      "  inflating: re10k/test/000142.torch  \n",
      "  inflating: re10k/test/000310.torch  \n",
      "  inflating: re10k/test/000050.torch  \n",
      "  inflating: re10k/test/000203.torch  \n",
      "  inflating: re10k/test/000468.torch  \n",
      "  inflating: re10k/test/000540.torch  \n",
      "  inflating: re10k/test/000157.torch  \n",
      "  inflating: re10k/test/000365.torch  \n",
      "  inflating: re10k/test/000520.torch  \n",
      "  inflating: re10k/test/000266.torch  \n",
      "  inflating: re10k/test/000446.torch  \n",
      "  inflating: re10k/test/000486.torch  \n",
      "  inflating: re10k/test/000516.torch  \n",
      "  inflating: re10k/test/000117.torch  \n",
      "  inflating: re10k/test/000165.torch  \n",
      "  inflating: re10k/test/000339.torch  \n",
      "  inflating: re10k/test/000222.torch  \n",
      "  inflating: re10k/test/000254.torch  \n",
      "  inflating: re10k/test/000115.torch  \n",
      "  inflating: re10k/test/000305.torch  \n",
      "  inflating: re10k/test/000344.torch  \n",
      "  inflating: re10k/test/000420.torch  \n",
      "  inflating: re10k/test/000535.torch  \n",
      "  inflating: re10k/test/000466.torch  \n",
      "  inflating: re10k/test/000225.torch  \n",
      "  inflating: re10k/test/000071.torch  \n",
      "  inflating: re10k/test/000526.torch  \n",
      "  inflating: re10k/test/000137.torch  \n",
      "  inflating: re10k/test/000537.torch  \n",
      "  inflating: re10k/test/000488.torch  \n",
      "  inflating: re10k/test/000055.torch  \n",
      "  inflating: re10k/test/000144.torch  \n",
      "  inflating: re10k/test/000155.torch  \n",
      "  inflating: re10k/test/000321.torch  \n",
      "  inflating: re10k/test/000035.torch  \n",
      "  inflating: re10k/test/000374.torch  \n",
      "  inflating: re10k/test/000503.torch  \n",
      "  inflating: re10k/test/000245.torch  \n",
      "  inflating: re10k/test/000083.torch  \n",
      "  inflating: re10k/test/000017.torch  \n",
      "  inflating: re10k/test/000182.torch  \n",
      "  inflating: re10k/test/000360.torch  \n",
      "  inflating: re10k/test/000517.torch  \n",
      "  inflating: re10k/test/000529.torch  \n",
      "  inflating: re10k/test/000000.torch  \n",
      "  inflating: re10k/test/000151.torch  \n",
      "  inflating: re10k/test/000430.torch  \n",
      "  inflating: re10k/test/000239.torch  \n",
      "  inflating: re10k/test/000164.torch  \n",
      "  inflating: re10k/test/000084.torch  \n",
      "  inflating: re10k/test/000121.torch  \n",
      "  inflating: re10k/test/000418.torch  \n",
      "  inflating: re10k/test/000496.torch  \n",
      "  inflating: re10k/test/000226.torch  \n",
      "  inflating: re10k/test/000460.torch  \n",
      "  inflating: re10k/test/000387.torch  \n",
      "  inflating: re10k/test/000334.torch  \n",
      "  inflating: re10k/test/000480.torch  \n",
      "  inflating: re10k/test/000335.torch  \n",
      "  inflating: re10k/test/000251.torch  \n",
      "  inflating: re10k/test/000064.torch  \n",
      "  inflating: re10k/test/000279.torch  \n",
      "  inflating: re10k/test/000190.torch  \n",
      "  inflating: re10k/test/000082.torch  \n",
      "  inflating: re10k/test/000105.torch  \n",
      "  inflating: re10k/test/000275.torch  \n",
      "  inflating: re10k/test/000435.torch  \n",
      "  inflating: re10k/test/000267.torch  \n",
      "  inflating: re10k/test/000498.torch  \n",
      "  inflating: re10k/test/000396.torch  \n",
      "  inflating: re10k/test/000008.torch  \n",
      "  inflating: re10k/test/000510.torch  \n",
      "  inflating: re10k/test/000108.torch  \n",
      "  inflating: re10k/test/000311.torch  \n",
      "  inflating: re10k/test/000028.torch  \n",
      "  inflating: re10k/test/000467.torch  \n",
      "  inflating: re10k/test/000500.torch  \n",
      "  inflating: re10k/test/000292.torch  \n",
      "  inflating: re10k/test/000419.torch  \n",
      "  inflating: re10k/test/000392.torch  \n",
      "  inflating: re10k/test/000436.torch  \n",
      "  inflating: re10k/test/000512.torch  \n",
      "  inflating: re10k/test/000216.torch  \n",
      "  inflating: re10k/test/000394.torch  \n",
      "  inflating: re10k/test/000089.torch  \n",
      "  inflating: re10k/test/000088.torch  \n",
      "  inflating: re10k/test/000441.torch  \n",
      "  inflating: re10k/test/000495.torch  \n",
      "  inflating: re10k/test/000101.torch  \n",
      "  inflating: re10k/test/000353.torch  \n",
      "  inflating: re10k/test/000282.torch  \n",
      "  inflating: re10k/test/000045.torch  \n",
      "  inflating: re10k/test/000057.torch  \n",
      "  inflating: re10k/test/000007.torch  \n",
      "  inflating: re10k/test/000538.torch  \n",
      "  inflating: re10k/test/000143.torch  \n",
      "  inflating: re10k/test/000065.torch  \n",
      "  inflating: re10k/test/000370.torch  \n",
      "  inflating: re10k/test/000465.torch  \n",
      "  inflating: re10k/test/000290.torch  \n",
      "  inflating: re10k/test/000368.torch  \n",
      "  inflating: re10k/test/000116.torch  \n",
      "  inflating: re10k/test/000303.torch  \n",
      "  inflating: re10k/test/000379.torch  \n",
      "  inflating: re10k/test/000519.torch  \n",
      "  inflating: re10k/test/000146.torch  \n",
      "  inflating: re10k/test/000346.torch  \n",
      "  inflating: re10k/test/000020.torch  \n",
      "  inflating: re10k/test/000475.torch  \n",
      "  inflating: re10k/test/000003.torch  \n",
      "  inflating: re10k/test/000250.torch  \n",
      "  inflating: re10k/test/000240.torch  \n",
      "  inflating: re10k/test/000058.torch  \n",
      "  inflating: re10k/test/000301.torch  \n",
      "  inflating: re10k/test/000322.torch  \n",
      "  inflating: re10k/test/000098.torch  \n",
      "  inflating: re10k/test/000288.torch  \n",
      "  inflating: re10k/test/000449.torch  \n",
      "  inflating: re10k/test/000104.torch  \n",
      "  inflating: re10k/test/000238.torch  \n",
      "  inflating: re10k/test/000285.torch  \n",
      "  inflating: re10k/test/000073.torch  \n",
      "  inflating: re10k/test/000145.torch  \n",
      "  inflating: re10k/test/000412.torch  \n",
      "  inflating: re10k/test/000081.torch  \n",
      "  inflating: re10k/test/000074.torch  \n",
      "  inflating: re10k/test/000534.torch  \n",
      "  inflating: re10k/test/000328.torch  \n",
      "  inflating: re10k/test/000462.torch  \n",
      "  inflating: re10k/test/000452.torch  \n",
      "  inflating: re10k/test/000507.torch  \n",
      "  inflating: re10k/test/000278.torch  \n",
      "  inflating: re10k/test/000443.torch  \n",
      "  inflating: re10k/test/000228.torch  \n",
      "  inflating: re10k/test/000076.torch  \n",
      "  inflating: re10k/test/000448.torch  \n",
      "  inflating: re10k/test/000453.torch  \n",
      "  inflating: re10k/test/000185.torch  \n",
      "  inflating: re10k/test/000234.torch  \n",
      "  inflating: re10k/test/000009.torch  \n",
      "  inflating: re10k/test/000382.torch  \n",
      "  inflating: re10k/test/000354.torch  \n",
      "  inflating: re10k/test/000431.torch  \n",
      "  inflating: re10k/test/000426.torch  \n",
      "  inflating: re10k/test/000491.torch  \n",
      "  inflating: re10k/test/000021.torch  \n",
      "  inflating: re10k/test/000376.torch  \n",
      "  inflating: re10k/test/000095.torch  \n",
      "  inflating: re10k/test/000432.torch  \n",
      "  inflating: re10k/test/000189.torch  \n",
      "  inflating: re10k/test/000330.torch  \n",
      "  inflating: re10k/test/000110.torch  \n",
      "  inflating: re10k/test/000482.torch  \n",
      "  inflating: re10k/test/000036.torch  \n",
      "  inflating: re10k/test/000532.torch  \n",
      "  inflating: re10k/test/000253.torch  \n",
      "  inflating: re10k/test/000153.torch  \n",
      "  inflating: re10k/test/000409.torch  \n",
      "  inflating: re10k/test/000324.torch  \n",
      "  inflating: re10k/test/000011.torch  \n",
      "  inflating: re10k/test/000380.torch  \n",
      "  inflating: re10k/test/000502.torch  \n",
      "  inflating: re10k/test/000531.torch  \n",
      "  inflating: re10k/test/000479.torch  \n",
      "  inflating: re10k/test/000161.torch  \n",
      "  inflating: re10k/test/000093.torch  \n",
      "  inflating: re10k/test/000415.torch  \n",
      "  inflating: re10k/test/000509.torch  \n",
      "  inflating: re10k/test/000191.torch  \n",
      "  inflating: re10k/test/000171.torch  \n",
      "  inflating: re10k/test/000124.torch  \n",
      "  inflating: re10k/test/000056.torch  \n",
      "  inflating: re10k/test/000205.torch  \n",
      "  inflating: re10k/test/000075.torch  \n",
      "  inflating: re10k/test/000005.torch  \n",
      "  inflating: re10k/test/000256.torch  \n",
      "  inflating: re10k/test/000046.torch  \n",
      "  inflating: re10k/test/000223.torch  \n",
      "  inflating: re10k/test/000260.torch  \n",
      "  inflating: re10k/test/000132.torch  \n",
      "  inflating: re10k/test/000342.torch  \n",
      "  inflating: re10k/test/000286.torch  \n",
      "  inflating: re10k/test/000241.torch  \n",
      "  inflating: re10k/test/000470.torch  \n",
      "  inflating: re10k/test/000212.torch  \n",
      "  inflating: re10k/test/000122.torch  \n",
      "  inflating: re10k/test/000094.torch  \n",
      "  inflating: re10k/test/000061.torch  \n",
      "  inflating: re10k/test/000173.torch  \n",
      "  inflating: re10k/test/000421.torch  \n",
      "  inflating: re10k/test/000192.torch  \n",
      "  inflating: re10k/test/000133.torch  \n",
      "  inflating: re10k/test/000422.torch  \n",
      "  inflating: re10k/test/000037.torch  \n",
      "  inflating: re10k/test/000294.torch  \n",
      "  inflating: re10k/test/000413.torch  \n",
      "  inflating: re10k/test/000424.torch  \n",
      "  inflating: re10k/test/000091.torch  \n",
      "  inflating: re10k/test/000490.torch  \n",
      "  inflating: re10k/test/000258.torch  \n",
      "  inflating: re10k/test/000315.torch  \n",
      "  inflating: re10k/test/000027.torch  \n",
      "  inflating: re10k/test/000513.torch  \n",
      "  inflating: re10k/test/000408.torch  \n",
      "  inflating: re10k/test/000428.torch  \n",
      "  inflating: re10k/test/000013.torch  \n",
      "  inflating: re10k/test/000357.torch  \n",
      "  inflating: re10k/test/000369.torch  \n",
      "  inflating: re10k/test/000343.torch  \n",
      "  inflating: re10k/test/000026.torch  \n",
      "  inflating: re10k/test/000313.torch  \n",
      "  inflating: re10k/test/000255.torch  \n",
      "  inflating: re10k/test/000180.torch  \n",
      "  inflating: re10k/test/000077.torch  \n",
      "  inflating: re10k/test/000414.torch  \n",
      "  inflating: re10k/test/000439.torch  \n",
      "  inflating: re10k/test/000224.torch  \n",
      "  inflating: re10k/test/000524.torch  \n",
      "  inflating: re10k/test/000499.torch  \n",
      "  inflating: re10k/test/000092.torch  \n",
      "  inflating: re10k/test/000298.torch  \n",
      "  inflating: re10k/test/000043.torch  \n",
      "  inflating: re10k/test/000518.torch  \n",
      "  inflating: re10k/test/000539.torch  \n",
      "  inflating: re10k/test/000044.torch  \n",
      "  inflating: re10k/test/000469.torch  \n",
      "  inflating: re10k/test/000059.torch  \n",
      "  inflating: re10k/test/000264.torch  \n",
      "  inflating: re10k/test/000337.torch  \n",
      "  inflating: re10k/test/000536.torch  \n",
      "  inflating: re10k/test/000262.torch  \n",
      "  inflating: re10k/test/000271.torch  \n",
      "  inflating: re10k/test/000454.torch  \n",
      "  inflating: re10k/test/000149.torch  \n",
      "  inflating: re10k/test/000471.torch  \n",
      "  inflating: re10k/test/000215.torch  \n",
      "  inflating: re10k/test/000403.torch  \n",
      "  inflating: re10k/test/000481.torch  \n",
      "  inflating: re10k/test/000375.torch  \n",
      "  inflating: re10k/test/000183.torch  \n",
      "  inflating: re10k/test/000106.torch  \n",
      "  inflating: re10k/test/000427.torch  \n",
      "  inflating: re10k/test/000060.torch  \n",
      "  inflating: re10k/test/000276.torch  \n",
      "  inflating: re10k/test/000252.torch  \n",
      "  inflating: re10k/test/000472.torch  \n",
      "  inflating: re10k/test/000400.torch  \n",
      "  inflating: re10k/test/000070.torch  \n",
      "  inflating: re10k/test/000389.torch  \n",
      "  inflating: re10k/test/000320.torch  \n",
      "  inflating: re10k/test/000221.torch  \n",
      "  inflating: re10k/test/000200.torch  \n",
      "  inflating: re10k/test/000319.torch  \n",
      "  inflating: re10k/test/000242.torch  \n",
      "  inflating: re10k/test/000523.torch  \n",
      "  inflating: re10k/test/000125.torch  \n",
      "  inflating: re10k/test/000136.torch  \n",
      "  inflating: re10k/test/000410.torch  \n",
      "  inflating: re10k/test/000004.torch  \n",
      "  inflating: re10k/test/000113.torch  \n",
      "  inflating: re10k/test/000259.torch  \n",
      "  inflating: re10k/test/000429.torch  \n",
      "  inflating: re10k/test/000332.torch  \n",
      "  inflating: re10k/test/000172.torch  \n",
      "  inflating: re10k/test/000154.torch  \n",
      "  inflating: re10k/test/000179.torch  \n",
      "  inflating: re10k/test/000504.torch  \n",
      "  inflating: re10k/test/000201.torch  \n",
      "  inflating: re10k/test/000533.torch  \n",
      "  inflating: re10k/test/000213.torch  \n",
      "  inflating: re10k/test/000176.torch  \n",
      "  inflating: re10k/test/000345.torch  \n",
      "  inflating: re10k/test/000489.torch  \n",
      "  inflating: re10k/test/000541.torch  \n",
      "  inflating: re10k/test/000438.torch  \n",
      "  inflating: re10k/test/000273.torch  \n",
      "  inflating: re10k/test/000455.torch  \n",
      "  inflating: re10k/test/000366.torch  \n",
      "  inflating: re10k/test/000162.torch  \n",
      "  inflating: re10k/test/000444.torch  \n",
      "  inflating: re10k/test/000307.torch  \n",
      "  inflating: re10k/test/000193.torch  \n",
      "  inflating: re10k/test/000109.torch  \n",
      "  inflating: re10k/test/000202.torch  \n",
      "  inflating: re10k/test/000494.torch  \n",
      "  inflating: re10k/test/000038.torch  \n",
      "  inflating: re10k/test/000457.torch  \n",
      "  inflating: re10k/test/000341.torch  \n",
      "  inflating: re10k/test/000196.torch  \n",
      "  inflating: re10k/test/000361.torch  \n",
      "  inflating: re10k/test/000362.torch  \n",
      "  inflating: re10k/test/000030.torch  \n",
      "  inflating: re10k/test/000405.torch  \n",
      "  inflating: re10k/test/000220.torch  \n",
      "  inflating: re10k/test/000289.torch  \n",
      "  inflating: re10k/test/000497.torch  \n",
      "  inflating: re10k/test/000425.torch  \n",
      "  inflating: re10k/test/000010.torch  \n",
      "  inflating: re10k/test/000348.torch  \n",
      "  inflating: re10k/test/000197.torch  \n",
      "  inflating: re10k/test/000208.torch  \n",
      "  inflating: re10k/test/000399.torch  \n",
      "  inflating: re10k/test/000478.torch  \n",
      "  inflating: re10k/test/000199.torch  \n",
      "  inflating: re10k/test/000398.torch  \n"
     ]
    }
   ],
   "source": [
    "!unzip re10k_test_only.zip"
   ]
  },
  {
   "cell_type": "code",
   "execution_count": null,
   "metadata": {},
   "outputs": [],
   "source": [
    "# set up environment\n",
    "# download the re10k checkpoint"
   ]
  },
  {
   "cell_type": "code",
   "execution_count": 1,
   "metadata": {},
   "outputs": [
    {
     "name": "stdout",
     "output_type": "stream",
     "text": [
      "/teamspace/studios/this_studio/diffusion-augmented-pixelsplat\n"
     ]
    }
   ],
   "source": [
    "%cd diffusion-augmented-pixelsplat/"
   ]
  },
  {
   "cell_type": "code",
   "execution_count": 2,
   "metadata": {},
   "outputs": [],
   "source": [
    "%load_ext autoreload\n",
    "%autoreload 2"
   ]
  },
  {
   "cell_type": "code",
   "execution_count": 3,
   "metadata": {},
   "outputs": [
    {
     "name": "stdout",
     "output_type": "stream",
     "text": [
      "\u001b[36mSaving outputs to /teamspace/studios/this_studio/diffusion-augmented-pixelsplat/outputs/2024-04-29/07-49-17.\u001b[39m\n",
      "rm: cannot remove 'outputs/local': No such file or directory\n",
      "setting up checkpointing\n",
      "init trainer\n",
      "GPU available: True (cuda), used: True\n",
      "TPU available: False, using: 0 TPU cores\n",
      "IPU available: False, using: 0 IPUs\n",
      "HPU available: False, using: 0 HPUs\n",
      "`Trainer(val_check_interval=1)` was configured so validation will run after every batch.\n",
      "Using cache found in /home/zeus/.cache/torch/hub/facebookresearch_dino_main\n",
      "Using cache found in /home/zeus/.cache/torch/hub/facebookresearch_dino_main\n",
      "[2024-04-29 07:49:19,432][py.warnings][WARNING] - /home/zeus/miniconda3/envs/cloudspace/lib/python3.10/site-packages/torchvision/models/_utils.py:208: UserWarning: The parameter 'pretrained' is deprecated since 0.13 and may be removed in the future, please use 'weights' instead.\n",
      "  warnings.warn(\n",
      "\n",
      "[2024-04-29 07:49:19,432][py.warnings][WARNING] - /home/zeus/miniconda3/envs/cloudspace/lib/python3.10/site-packages/torchvision/models/_utils.py:223: UserWarning: Arguments other than a weight enum or `None` for 'weights' are deprecated since 0.13 and may be removed in the future. The current behavior is equivalent to passing `weights=None`.\n",
      "  warnings.warn(msg)\n",
      "\n",
      "Setting up [LPIPS] perceptual loss: trunk [vgg], v[0.1], spatial [off]\n",
      "[2024-04-29 07:49:19,933][py.warnings][WARNING] - /home/zeus/miniconda3/envs/cloudspace/lib/python3.10/site-packages/torchvision/models/_utils.py:223: UserWarning: Arguments other than a weight enum or `None` for 'weights' are deprecated since 0.13 and may be removed in the future. The current behavior is equivalent to passing `weights=VGG16_Weights.IMAGENET1K_V1`. You can also use `weights=VGG16_Weights.DEFAULT` to get the most up-to-date weights.\n",
      "  warnings.warn(msg)\n",
      "\n",
      "Loading model from: /home/zeus/miniconda3/envs/cloudspace/lib/python3.10/site-packages/lpips/weights/v0.1/vgg.pth\n",
      "You are using a CUDA device ('NVIDIA L4') that has Tensor Cores. To properly utilize them, you should set `torch.set_float32_matmul_precision('medium' | 'high')` which will trade-off precision for performance. For more details, read https://pytorch.org/docs/stable/generated/torch.set_float32_matmul_precision.html#torch.set_float32_matmul_precision\n",
      "Restoring states from the checkpoint path at checkpoints/re10k.ckpt\n",
      "LOCAL_RANK: 0 - CUDA_VISIBLE_DEVICES: [0]\n",
      "Loaded model weights from the checkpoint at checkpoints/re10k.ckpt\n",
      "[2024-04-29 07:49:29,065][py.warnings][WARNING] - /home/zeus/miniconda3/envs/cloudspace/lib/python3.10/site-packages/lightning/pytorch/utilities/data.py:121: Your `IterableDataset` has `__len__` defined. In combination with multi-process data loading (when num_workers > 1), `__len__` could be inaccurate if each worker is not configured independently to avoid having duplicate data.\n",
      "\n",
      "Testing DataLoader 0:   0%|                            | 0/7286 [00:00<?, ?it/s]Test step 000000.\n",
      "Testing DataLoader 0:   1%|▏                | 59/7286 [00:36<1:14:43,  1.61it/s]Skipped b49d3a8968d511c9 because of insufficient baseline 0.000000\n",
      "Testing DataLoader 0:   1%|▏               | 100/7286 [01:00<1:12:32,  1.65it/s]Test step 000100.\n",
      "Testing DataLoader 0:   2%|▏               | 113/7286 [01:08<1:12:31,  1.65it/s]Skipped bad example f6b24019e753e366. Context shape was torch.Size([2, 3, 338, 640]) and target shape was torch.Size([4, 3, 338, 640]).\n",
      "Testing DataLoader 0:   2%|▎               | 168/7286 [01:40<1:11:05,  1.67it/s]Skipped bad example 2c2cfc0ac780a3aa. Context shape was torch.Size([2, 3, 338, 640]) and target shape was torch.Size([4, 3, 338, 640]).\n",
      "Testing DataLoader 0:   3%|▍               | 200/7286 [01:58<1:09:41,  1.69it/s]Test step 000200.\n",
      "Testing DataLoader 0:   3%|▍               | 224/7286 [02:09<1:08:14,  1.72it/s]Skipped bad example 7e0ef826b783b62d. Context shape was torch.Size([2, 3, 338, 640]) and target shape was torch.Size([4, 3, 338, 640]).\n",
      "Testing DataLoader 0:   3%|▌               | 243/7286 [02:18<1:07:08,  1.75it/s]Skipped ca041f64b802efc8 because of insufficient baseline 0.000000\n",
      "Testing DataLoader 0:   4%|▋               | 300/7286 [02:46<1:04:47,  1.80it/s]Test step 000300.\n",
      "Testing DataLoader 0:   4%|▋               | 302/7286 [02:47<1:04:42,  1.80it/s]Skipped bad example c4cf436abcaaa289. Context shape was torch.Size([2, 3, 342, 640]) and target shape was torch.Size([4, 3, 342, 640]).\n",
      "Testing DataLoader 0:   5%|▉               | 400/7286 [03:35<1:01:54,  1.85it/s]Test step 000400.\n",
      "Testing DataLoader 0:   6%|█               | 466/7286 [04:08<1:00:32,  1.88it/s]Skipped d80a9b49852062f6 because of insufficient baseline 0.000000\n",
      "Testing DataLoader 0:   7%|█▏                | 500/7286 [04:24<59:54,  1.89it/s]Test step 000500.\n",
      "Testing DataLoader 0:   8%|█▍                | 600/7286 [05:14<58:20,  1.91it/s]Test step 000600.\n",
      "Testing DataLoader 0:   8%|█▌                | 611/7286 [05:19<58:11,  1.91it/s]Skipped bad example c993af4cffbf6342. Context shape was torch.Size([2, 3, 270, 640]) and target shape was torch.Size([4, 3, 270, 640]).\n",
      "Testing DataLoader 0:   9%|█▌                | 623/7286 [05:25<58:01,  1.91it/s]Skipped d45a3454e5581d11 because of insufficient baseline 0.000000\n",
      "Testing DataLoader 0:  10%|█▋                | 700/7286 [06:03<56:58,  1.93it/s]Test step 000700.\n",
      "Testing DataLoader 0:  11%|█▉                | 776/7286 [06:40<56:02,  1.94it/s]Skipped 3456032dc178208b because of insufficient baseline 0.000000\n",
      "Testing DataLoader 0:  11%|█▉                | 800/7286 [06:52<55:45,  1.94it/s]Test step 000800.\n",
      "Testing DataLoader 0:  12%|██▏               | 895/7286 [07:38<54:34,  1.95it/s]Skipped 2f8e1946600c65d4 because of insufficient baseline 0.000000\n",
      "Testing DataLoader 0:  12%|██▏               | 900/7286 [07:41<54:31,  1.95it/s]Test step 000900.\n",
      "Testing DataLoader 0:  14%|██▎              | 1000/7286 [08:30<53:26,  1.96it/s]Test step 001000.\n",
      "Testing DataLoader 0:  14%|██▎              | 1015/7286 [08:37<53:15,  1.96it/s]Skipped c98425c3d93c2522 because of insufficient baseline 0.000000\n",
      "Testing DataLoader 0:  15%|██▌              | 1100/7286 [09:18<52:21,  1.97it/s]Test step 001100.\n",
      "Testing DataLoader 0:  16%|██▊              | 1200/7286 [10:07<51:18,  1.98it/s]Test step 001200.\n",
      "Testing DataLoader 0:  17%|██▉              | 1272/7286 [10:42<50:37,  1.98it/s]Skipped c32a9cc7859744ca because of insufficient baseline 0.000000\n",
      "Testing DataLoader 0:  18%|███              | 1300/7286 [10:56<50:22,  1.98it/s]Test step 001300.\n",
      "Testing DataLoader 0:  18%|███              | 1304/7286 [10:58<50:20,  1.98it/s]Skipped d7a9486c2d6ea7ca because of insufficient baseline 0.000000\n",
      "Testing DataLoader 0:  18%|███              | 1319/7286 [11:05<50:12,  1.98it/s]Skipped 97f84416b29317d3 because of insufficient baseline 0.000000\n",
      "Testing DataLoader 0:  18%|███              | 1323/7286 [11:07<50:10,  1.98it/s]Skipped 99e6a29aa78a1ac5 because of insufficient baseline 0.000000\n",
      "Testing DataLoader 0:  19%|███▎             | 1400/7286 [11:45<49:27,  1.98it/s]Test step 001400.\n",
      "Testing DataLoader 0:  21%|███▍             | 1500/7286 [12:34<48:31,  1.99it/s]Test step 001500.\n",
      "Testing DataLoader 0:  21%|███▋             | 1563/7286 [13:05<47:57,  1.99it/s]Skipped 085e30417ed3fd8d because of insufficient baseline 0.000000\n",
      "Testing DataLoader 0:  21%|███▋             | 1565/7286 [13:06<47:56,  1.99it/s]Skipped 84759cb1a8176b80 because of insufficient baseline 0.000000\n",
      "Testing DataLoader 0:  22%|███▋             | 1585/7286 [13:16<47:45,  1.99it/s]Skipped d085abebc85fae65 because of insufficient baseline 0.000000\n",
      "Testing DataLoader 0:  22%|███▋             | 1600/7286 [13:23<47:37,  1.99it/s]Test step 001600.\n",
      "Testing DataLoader 0:  23%|███▉             | 1700/7286 [14:13<46:45,  1.99it/s]Test step 001700.\n",
      "Testing DataLoader 0:  25%|████▏            | 1800/7286 [15:04<45:55,  1.99it/s]Test step 001800.\n",
      "Testing DataLoader 0:  26%|████▍            | 1880/7286 [15:44<45:15,  1.99it/s]Skipped c6b21badfc61a7e4 because of insufficient baseline 0.000000\n",
      "Testing DataLoader 0:  26%|████▍            | 1887/7286 [15:47<45:12,  1.99it/s]Skipped bad example fc1bc54d48068ec1. Context shape was torch.Size([2, 3, 338, 640]) and target shape was torch.Size([4, 3, 338, 640]).\n",
      "Testing DataLoader 0:  26%|████▍            | 1900/7286 [15:54<45:05,  1.99it/s]Test step 001900.\n",
      "Testing DataLoader 0:  27%|████▌            | 1933/7286 [16:11<44:49,  1.99it/s]Skipped bad example 6cf15b2d0450bcd2. Context shape was torch.Size([2, 3, 358, 640]) and target shape was torch.Size([4, 3, 358, 640]).\n",
      "Testing DataLoader 0:  27%|████▋            | 2000/7286 [16:45<44:17,  1.99it/s]Test step 002000.\n",
      "Testing DataLoader 0:  29%|████▉            | 2100/7286 [17:36<43:27,  1.99it/s]Test step 002100.\n",
      "Testing DataLoader 0:  30%|█████▏           | 2200/7286 [18:25<42:35,  1.99it/s]Test step 002200.\n",
      "Testing DataLoader 0:  30%|█████▏           | 2220/7286 [18:35<42:25,  1.99it/s]Skipped cc6541ca1f8ca902 because of insufficient baseline 0.000000\n",
      "Testing DataLoader 0:  31%|█████▏           | 2241/7286 [18:45<42:14,  1.99it/s]Skipped e1f66de9b62a0d3d because of insufficient baseline 0.000000\n",
      "Testing DataLoader 0:  32%|█████▎           | 2300/7286 [19:14<41:43,  1.99it/s]Test step 002300.\n",
      "Testing DataLoader 0:  32%|█████▍           | 2354/7286 [19:41<41:15,  1.99it/s]Skipped bad example b67306c95ece1f64. Context shape was torch.Size([2, 3, 272, 640]) and target shape was torch.Size([4, 3, 272, 640]).\n",
      "Testing DataLoader 0:  33%|█████▌           | 2395/7286 [20:01<40:54,  1.99it/s]Skipped 77332e0e8a4311be because of insufficient baseline 0.000000\n",
      "Testing DataLoader 0:  33%|█████▌           | 2400/7286 [20:04<40:52,  1.99it/s]Test step 002400.\n",
      "Testing DataLoader 0:  33%|█████▌           | 2405/7286 [20:07<40:49,  1.99it/s]Skipped bad example c2153789693cbe62. Context shape was torch.Size([2, 3, 342, 640]) and target shape was torch.Size([4, 3, 342, 640]).\n",
      "Testing DataLoader 0:  34%|█████▋           | 2463/7286 [20:35<40:19,  1.99it/s]Skipped 1be80ff36848e758 because of insufficient baseline 0.000000\n",
      "Testing DataLoader 0:  34%|█████▊           | 2470/7286 [20:39<40:16,  1.99it/s]Skipped ec8a18bf04341836 because of insufficient baseline 0.000000\n",
      "Testing DataLoader 0:  34%|█████▊           | 2500/7286 [20:54<40:01,  1.99it/s]Test step 002500.\n",
      "Testing DataLoader 0:  35%|█████▉           | 2556/7286 [21:22<39:33,  1.99it/s]Skipped f2d4589c64da76b1 because of insufficient baseline 0.000000\n",
      "Testing DataLoader 0:  36%|██████           | 2600/7286 [21:44<39:10,  1.99it/s]Test step 002600.\n",
      "Testing DataLoader 0:  37%|██████▏          | 2663/7286 [22:15<38:38,  1.99it/s]Skipped 402495688372685c because of insufficient baseline 0.000000\n",
      "Testing DataLoader 0:  37%|██████▎          | 2700/7286 [22:33<38:19,  1.99it/s]Test step 002700.\n",
      "Testing DataLoader 0:  37%|██████▎          | 2706/7286 [22:36<38:16,  1.99it/s]Skipped fd33620b83537dc2 because of insufficient baseline 0.000000\n",
      "Testing DataLoader 0:  38%|██████▌          | 2800/7286 [23:23<37:29,  1.99it/s]Test step 002800.\n",
      "Testing DataLoader 0:  39%|██████▌          | 2819/7286 [23:33<37:19,  1.99it/s]Skipped 80aba447f03d0ff7 because of insufficient baseline 0.000000\n",
      "Skipped bad example d2260d4ba9e15009. Context shape was torch.Size([2, 3, 338, 640]) and target shape was torch.Size([4, 3, 338, 640]).\n",
      "Testing DataLoader 0:  40%|██████▊          | 2900/7286 [24:13<36:38,  1.99it/s]Test step 002900.\n",
      "Testing DataLoader 0:  40%|██████▊          | 2902/7286 [24:14<36:37,  1.99it/s]Skipped e607be114cda31f8 because of insufficient baseline 0.000000\n",
      "Testing DataLoader 0:  41%|██████▉          | 3000/7286 [25:03<35:48,  2.00it/s]Test step 003000.\n",
      "Testing DataLoader 0:  42%|███████▏         | 3067/7286 [25:36<35:14,  2.00it/s]Skipped fd64a6803d06bf7f because of insufficient baseline 0.000000\n",
      "Skipped 4ddb3c85125b2eff because of insufficient baseline 0.000000\n",
      "Testing DataLoader 0:  42%|███████▏         | 3089/7286 [25:47<35:02,  2.00it/s]Skipped 7c90756d31a6b175 because of insufficient baseline 0.000000\n",
      "Testing DataLoader 0:  43%|███████▏         | 3100/7286 [25:53<34:57,  2.00it/s]Test step 003100.\n",
      "Testing DataLoader 0:  44%|███████▍         | 3186/7286 [26:36<34:14,  2.00it/s]Skipped a42580e6f0ce658d because of insufficient baseline 0.000000\n",
      "Testing DataLoader 0:  44%|███████▍         | 3200/7286 [26:43<34:07,  2.00it/s]Test step 003200.\n",
      "Testing DataLoader 0:  45%|███████▋         | 3300/7286 [27:33<33:17,  2.00it/s]Test step 003300.\n",
      "Testing DataLoader 0:  45%|███████▋         | 3312/7286 [27:39<33:11,  2.00it/s]Skipped bad example 9fa5924d53e1ca57. Context shape was torch.Size([2, 3, 338, 640]) and target shape was torch.Size([4, 3, 338, 640]).\n",
      "Testing DataLoader 0:  45%|███████▋         | 3313/7286 [27:40<33:11,  2.00it/s]Skipped bad example b11274f0bb030506. Context shape was torch.Size([2, 3, 342, 640]) and target shape was torch.Size([4, 3, 342, 640]).\n",
      "Testing DataLoader 0:  47%|███████▉         | 3400/7286 [28:27<32:31,  1.99it/s]Test step 003400.\n",
      "Testing DataLoader 0:  47%|████████         | 3431/7286 [28:44<32:17,  1.99it/s]Skipped c1699c00968f0bca because of insufficient baseline 0.000000\n",
      "Testing DataLoader 0:  47%|████████         | 3458/7286 [28:59<32:05,  1.99it/s]Skipped 78968b8becbb0baf because of insufficient baseline 0.000000\n",
      "Testing DataLoader 0:  48%|████████▏        | 3500/7286 [29:23<31:47,  1.98it/s]Test step 003500.\n",
      "Testing DataLoader 0:  49%|████████▎        | 3554/7286 [29:53<31:23,  1.98it/s]Skipped 94eac323cba1cbb5 because of insufficient baseline 0.000000\n",
      "Testing DataLoader 0:  49%|████████▎        | 3569/7286 [30:00<31:15,  1.98it/s]Skipped ebf9eb32e850ea81 because of insufficient baseline 0.000000\n",
      "Testing DataLoader 0:  49%|████████▍        | 3600/7286 [30:17<31:01,  1.98it/s]Test step 003600.\n",
      "Testing DataLoader 0:  50%|████████▌        | 3664/7286 [30:51<30:30,  1.98it/s]Skipped 82041f060168dbe1 because of insufficient baseline 0.000000\n",
      "Testing DataLoader 0:  51%|████████▋        | 3700/7286 [31:09<30:12,  1.98it/s]Test step 003700.\n",
      "Testing DataLoader 0:  51%|████████▋        | 3705/7286 [31:12<30:09,  1.98it/s]Skipped 7a0659b49c9037f3 because of insufficient baseline 0.000000\n",
      "Testing DataLoader 0:  51%|████████▋        | 3718/7286 [31:18<30:03,  1.98it/s]Skipped d9b0de5e4629067b because of insufficient baseline 0.000000\n",
      "Testing DataLoader 0:  51%|████████▋        | 3731/7286 [31:25<29:56,  1.98it/s]Skipped 3ce90c0ea2537c48 because of insufficient baseline 0.000000\n",
      "Testing DataLoader 0:  52%|████████▊        | 3800/7286 [32:00<29:21,  1.98it/s]Test step 003800.\n",
      "Testing DataLoader 0:  52%|████████▊        | 3801/7286 [32:00<29:20,  1.98it/s]Skipped cb50a671ea7144bb because of insufficient baseline 0.000000\n",
      "Testing DataLoader 0:  53%|████████▉        | 3834/7286 [32:17<29:04,  1.98it/s]Skipped bad example cb1d7309f529d1b5. Context shape was torch.Size([2, 3, 272, 640]) and target shape was torch.Size([4, 3, 272, 640]).\n",
      "Testing DataLoader 0:  53%|████████▉        | 3837/7286 [32:18<29:02,  1.98it/s]Skipped c623c6a79373330b because of insufficient baseline 0.000000\n",
      "Testing DataLoader 0:  53%|█████████        | 3874/7286 [32:37<28:43,  1.98it/s]Skipped dff18176970e55fb because of insufficient baseline 0.000000\n",
      "Testing DataLoader 0:  54%|█████████        | 3900/7286 [32:50<28:30,  1.98it/s]Test step 003900.\n",
      "Testing DataLoader 0:  54%|█████████▏       | 3923/7286 [33:01<28:18,  1.98it/s]Skipped c6799798523556eb because of insufficient baseline 0.000000\n",
      "Testing DataLoader 0:  55%|█████████▎       | 4000/7286 [33:40<27:39,  1.98it/s]Test step 004000.\n",
      "Testing DataLoader 0:  56%|█████████▌       | 4100/7286 [34:30<26:48,  1.98it/s]Test step 004100.\n",
      "Testing DataLoader 0:  56%|█████████▌       | 4106/7286 [34:33<26:45,  1.98it/s]Skipped c040e7598e43eef1 because of insufficient baseline 0.000000\n",
      "Testing DataLoader 0:  58%|█████████▊       | 4200/7286 [35:20<25:57,  1.98it/s]Test step 004200.\n",
      "Testing DataLoader 0:  58%|█████████▊       | 4206/7286 [35:23<25:54,  1.98it/s]Skipped 0a7c052273895bb3 because of insufficient baseline 0.000000\n",
      "Testing DataLoader 0:  58%|█████████▊       | 4226/7286 [35:33<25:44,  1.98it/s]Skipped bad example 738d323cb18e7279. Context shape was torch.Size([2, 3, 272, 640]) and target shape was torch.Size([4, 3, 272, 640]).\n",
      "Testing DataLoader 0:  59%|██████████       | 4300/7286 [36:10<25:07,  1.98it/s]Test step 004300.\n",
      "Testing DataLoader 0:  59%|██████████       | 4324/7286 [36:22<24:55,  1.98it/s]Skipped b58acaae2cf55ef3 because of insufficient baseline 0.000000\n",
      "Testing DataLoader 0:  60%|██████████▏      | 4377/7286 [36:52<24:30,  1.98it/s]Skipped a1123decafcdf68e because of insufficient baseline 0.000000\n",
      "Testing DataLoader 0:  60%|██████████▎      | 4400/7286 [37:17<24:27,  1.97it/s]Test step 004400.\n",
      "Testing DataLoader 0:  61%|██████████▍      | 4475/7286 [38:01<23:53,  1.96it/s]Skipped ca6edff53cad061f because of insufficient baseline 0.000000\n",
      "Testing DataLoader 0:  62%|██████████▍      | 4499/7286 [38:21<23:45,  1.95it/s]Skipped 4f943ba8ba82cc2c because of insufficient baseline 0.000000\n",
      "Testing DataLoader 0:  62%|██████████▍      | 4500/7286 [38:22<23:45,  1.95it/s]Test step 004500.\n",
      "Testing DataLoader 0:  62%|██████████▌      | 4525/7286 [38:41<23:36,  1.95it/s]Skipped bad example 8058cb1057cab35c. Context shape was torch.Size([2, 3, 338, 640]) and target shape was torch.Size([4, 3, 338, 640]).\n",
      "Testing DataLoader 0:  63%|██████████▋      | 4600/7286 [39:19<22:57,  1.95it/s]Test step 004600.\n",
      "Skipped bad example eb475dde190faff9. Context shape was torch.Size([2, 3, 338, 640]) and target shape was torch.Size([4, 3, 338, 640]).\n",
      "Testing DataLoader 0:  64%|██████████▊      | 4630/7286 [39:34<22:42,  1.95it/s]Skipped 9a085722f8607df5 because of insufficient baseline 0.000000\n",
      "Testing DataLoader 0:  65%|██████████▉      | 4700/7286 [40:09<22:06,  1.95it/s]Test step 004700.\n",
      "Testing DataLoader 0:  65%|███████████      | 4721/7286 [40:20<21:55,  1.95it/s]Skipped bad example fb3fdc4c78288c0e. Context shape was torch.Size([2, 3, 338, 640]) and target shape was torch.Size([4, 3, 338, 640]).\n",
      "Testing DataLoader 0:  65%|███████████      | 4741/7286 [40:30<21:44,  1.95it/s]Skipped 7fc34ec2673e91f3 because of insufficient baseline 0.000000\n",
      "Testing DataLoader 0:  66%|███████████▏     | 4800/7286 [41:00<21:14,  1.95it/s]Test step 004800.\n",
      "Testing DataLoader 0:  67%|███████████▎     | 4850/7286 [41:36<20:53,  1.94it/s]Skipped 3e94e6706fcdccfa because of insufficient baseline 0.000000\n",
      "Testing DataLoader 0:  67%|███████████▍     | 4900/7286 [42:01<20:27,  1.94it/s]Test step 004900.\n",
      "Testing DataLoader 0:  69%|███████████▋     | 5000/7286 [43:04<19:41,  1.93it/s]Test step 005000.\n",
      "Testing DataLoader 0:  69%|███████████▋     | 5018/7286 [43:15<19:32,  1.93it/s]Skipped bad example 1613824d3db1b1b0. Context shape was torch.Size([2, 3, 270, 480]) and target shape was torch.Size([4, 3, 270, 480]).\n",
      "Testing DataLoader 0:  69%|███████████▊     | 5037/7286 [43:35<19:27,  1.93it/s]Skipped f7d372dde37d82a8 because of insufficient baseline 0.000000\n",
      "Testing DataLoader 0:  70%|███████████▉     | 5100/7286 [44:32<19:05,  1.91it/s]Test step 005100.\n",
      "Testing DataLoader 0:  71%|████████████     | 5164/7286 [45:05<18:31,  1.91it/s]Skipped 5b14277732a9112d because of insufficient baseline 0.000000\n",
      "Testing DataLoader 0:  71%|████████████▏    | 5200/7286 [45:23<18:12,  1.91it/s]Test step 005200.\n",
      "Testing DataLoader 0:  72%|████████████▎    | 5254/7286 [45:50<17:43,  1.91it/s]Skipped 38f7ba7fd9a83069 because of insufficient baseline 0.000000\n",
      "Testing DataLoader 0:  73%|████████████▎    | 5300/7286 [46:14<17:19,  1.91it/s]Test step 005300.\n",
      "Testing DataLoader 0:  73%|████████████▍    | 5344/7286 [46:51<17:01,  1.90it/s]Skipped 70b0a33083333dc9 because of insufficient baseline 0.000000\n",
      "Testing DataLoader 0:  73%|████████████▍    | 5354/7286 [47:02<16:58,  1.90it/s]Skipped 89298df2cc934179 because of insufficient baseline 0.000000\n",
      "Testing DataLoader 0:  74%|████████████▌    | 5369/7286 [47:19<16:53,  1.89it/s]Skipped ea5350a00ddcfe45 because of insufficient baseline 0.000000\n",
      "Testing DataLoader 0:  74%|████████████▌    | 5388/7286 [47:40<16:47,  1.88it/s]Skipped bad example 3b0b55657925fb34. Context shape was torch.Size([2, 3, 272, 640]) and target shape was torch.Size([4, 3, 272, 640]).\n",
      "Testing DataLoader 0:  74%|████████████▌    | 5400/7286 [47:53<16:43,  1.88it/s]Test step 005400.\n",
      "Testing DataLoader 0:  74%|████████████▋    | 5414/7286 [48:09<16:39,  1.87it/s]Skipped 52414a95ef502186 because of insufficient baseline 0.000000\n",
      "Testing DataLoader 0:  75%|████████████▊    | 5500/7286 [49:44<16:09,  1.84it/s]Test step 005500.\n",
      "Testing DataLoader 0:  76%|████████████▉    | 5522/7286 [50:02<15:59,  1.84it/s]Skipped bad example 9dcd87f6e1828a3d. Context shape was torch.Size([2, 3, 272, 640]) and target shape was torch.Size([4, 3, 272, 640]).\n",
      "Testing DataLoader 0:  77%|█████████████    | 5575/7286 [50:29<15:29,  1.84it/s]Skipped 289ce0f2b82dcd0e because of insufficient baseline 0.000000\n",
      "Testing DataLoader 0:  77%|█████████████    | 5593/7286 [50:38<15:19,  1.84it/s]Skipped 6b6d20c6a46b9fe9 because of insufficient baseline 0.000000\n",
      "Testing DataLoader 0:  77%|█████████████    | 5600/7286 [50:42<15:16,  1.84it/s]Test step 005600.\n",
      "Testing DataLoader 0:  78%|█████████████▏   | 5657/7286 [51:11<14:44,  1.84it/s]Skipped bad example 76dd58d252d959fb. Context shape was torch.Size([2, 3, 342, 640]) and target shape was torch.Size([4, 3, 342, 640]).\n",
      "Testing DataLoader 0:  78%|█████████████▎   | 5700/7286 [51:33<14:20,  1.84it/s]Test step 005700.\n",
      "Testing DataLoader 0:  79%|█████████████▍   | 5737/7286 [51:52<14:00,  1.84it/s]Skipped de679a299a3c2237 because of insufficient baseline 0.000000\n",
      "Testing DataLoader 0:  80%|█████████████▌   | 5800/7286 [52:24<13:25,  1.84it/s]Test step 005800.\n",
      "Testing DataLoader 0:  81%|█████████████▊   | 5900/7286 [53:14<12:30,  1.85it/s]Test step 005900.\n",
      "Testing DataLoader 0:  81%|█████████████▊   | 5935/7286 [53:32<12:11,  1.85it/s]Skipped bad example d06f9f8cfa8d851a. Context shape was torch.Size([2, 3, 338, 640]) and target shape was torch.Size([4, 3, 338, 640]).\n",
      "Testing DataLoader 0:  82%|█████████████▉   | 5952/7286 [53:41<12:01,  1.85it/s]Skipped 960e5d10d45736f9 because of insufficient baseline 0.000000\n",
      "Testing DataLoader 0:  82%|█████████████▉   | 5956/7286 [53:43<11:59,  1.85it/s]Skipped 2d510b02062e6ec1 because of insufficient baseline 0.000000\n",
      "Testing DataLoader 0:  82%|█████████████▉   | 6000/7286 [54:05<11:35,  1.85it/s]Test step 006000.\n",
      "Testing DataLoader 0:  83%|██████████████   | 6041/7286 [54:33<11:14,  1.85it/s]Skipped bad example b300b5557ed54be3. Context shape was torch.Size([2, 3, 270, 480]) and target shape was torch.Size([4, 3, 270, 480]).\n",
      "Testing DataLoader 0:  84%|██████████████▏  | 6100/7286 [55:13<10:44,  1.84it/s]Test step 006100.\n",
      "Testing DataLoader 0:  84%|██████████████▎  | 6112/7286 [55:24<10:38,  1.84it/s]Skipped 83fce665197661bc because of insufficient baseline 0.000000\n",
      "Testing DataLoader 0:  84%|██████████████▎  | 6148/7286 [55:58<10:21,  1.83it/s]Skipped 9122321d30c32925 because of insufficient baseline 0.000000\n",
      "Testing DataLoader 0:  85%|██████████████▍  | 6161/7286 [56:10<10:15,  1.83it/s]Skipped 5c01a9e39821e5ce because of insufficient baseline 0.000000\n",
      "Testing DataLoader 0:  85%|██████████████▍  | 6200/7286 [56:45<09:56,  1.82it/s]Test step 006200.\n",
      "Testing DataLoader 0:  86%|██████████████▌  | 6236/7286 [57:13<09:38,  1.82it/s]Skipped f3824ed340a3012e because of insufficient baseline 0.000000\n",
      "Testing DataLoader 0:  86%|██████████████▋  | 6300/7286 [57:49<09:03,  1.82it/s]Test step 006300.\n",
      "Testing DataLoader 0:  87%|██████████████▋  | 6309/7286 [57:57<08:58,  1.81it/s]Skipped ca896b9824333d2f because of insufficient baseline 0.000000\n",
      "Testing DataLoader 0:  87%|██████████████▊  | 6331/7286 [58:09<08:46,  1.81it/s]Skipped f7fbe1737c158cc0 because of insufficient baseline 0.000000\n",
      "Testing DataLoader 0:  88%|██████████████▉  | 6400/7286 [58:52<08:08,  1.81it/s]Test step 006400.\n",
      "Testing DataLoader 0:  89%|███████████████  | 6451/7286 [59:21<07:40,  1.81it/s]Skipped bad example 7a2605064b7a424c. Context shape was torch.Size([2, 3, 342, 640]) and target shape was torch.Size([4, 3, 342, 640]).\n",
      "Testing DataLoader 0:  89%|███████████████  | 6461/7286 [59:28<07:35,  1.81it/s]Skipped 066c35b1abc706be because of insufficient baseline 0.000000\n",
      "Testing DataLoader 0:  89%|███████████████▏ | 6500/7286 [59:56<07:14,  1.81it/s]Test step 006500.\n",
      "Testing DataLoader 0:  89%|███████████████▏ | 6504/7286 [59:58<07:12,  1.81it/s]Skipped d8108c1e5deaa4ce because of insufficient baseline 0.000000\n",
      "Testing DataLoader 0:  90%|█████████████▍ | 6527/7286 [1:00:10<06:59,  1.81it/s]Skipped 75331e16cc5bde2e because of insufficient baseline 0.000000\n",
      "Testing DataLoader 0:  90%|█████████████▌ | 6559/7286 [1:00:28<06:42,  1.81it/s]Skipped bad example e8de589f2a531537. Context shape was torch.Size([2, 3, 272, 640]) and target shape was torch.Size([4, 3, 272, 640]).\n",
      "Testing DataLoader 0:  91%|█████████████▌ | 6600/7286 [1:00:51<06:19,  1.81it/s]Test step 006600.\n",
      "Testing DataLoader 0:  91%|█████████████▋ | 6639/7286 [1:01:16<05:58,  1.81it/s]Skipped 088e115752ce9e56 because of insufficient baseline 0.000000\n",
      "Testing DataLoader 0:  92%|█████████████▊ | 6700/7286 [1:02:11<05:26,  1.80it/s]Test step 006700.\n",
      "Testing DataLoader 0:  92%|█████████████▊ | 6701/7286 [1:02:12<05:25,  1.80it/s]Skipped 67d2d83b0a571e50 because of insufficient baseline 0.000000\n",
      "Testing DataLoader 0:  92%|█████████████▊ | 6704/7286 [1:02:15<05:24,  1.79it/s]Skipped bad example 6a2043cb2c979360. Context shape was torch.Size([2, 3, 338, 640]) and target shape was torch.Size([4, 3, 338, 640]).\n",
      "Testing DataLoader 0:  93%|█████████████▉ | 6800/7286 [1:03:42<04:33,  1.78it/s]Test step 006800.\n",
      "Testing DataLoader 0:  94%|██████████████ | 6826/7286 [1:04:00<04:18,  1.78it/s]Skipped e9049a6bd77c83e0 because of insufficient baseline 0.000000\n",
      "Testing DataLoader 0:  95%|██████████████▏| 6900/7286 [1:04:39<03:37,  1.78it/s]Test step 006900.\n",
      "Testing DataLoader 0:  95%|██████████████▎| 6923/7286 [1:04:50<03:24,  1.78it/s]Skipped bad example 3e034bde9426ae9f. Context shape was torch.Size([2, 3, 338, 640]) and target shape was torch.Size([4, 3, 338, 640]).\n",
      "Testing DataLoader 0:  95%|██████████████▎| 6939/7286 [1:04:59<03:14,  1.78it/s]Skipped 3cda3a0dce5ed123 because of insufficient baseline 0.000000\n",
      "Testing DataLoader 0:  95%|██████████████▎| 6949/7286 [1:05:04<03:09,  1.78it/s]Skipped bad example 900ae66530d4a8ae. Context shape was torch.Size([2, 3, 338, 640]) and target shape was torch.Size([4, 3, 338, 640]).\n",
      "Testing DataLoader 0:  96%|██████████████▍| 7000/7286 [1:05:29<02:40,  1.78it/s]Test step 007000.\n",
      "Testing DataLoader 0:  97%|██████████████▌| 7100/7286 [1:06:21<01:44,  1.78it/s]Test step 007100.\n",
      "Testing DataLoader 0:  98%|██████████████▋| 7119/7286 [1:06:31<01:33,  1.78it/s]\n"
     ]
    }
   ],
   "source": [
    "!python3 -m src.main +experiment=re10k mode=test test.data_loader=\"test\" test.output_path=\"outputs/re10k_test_data\" data_loader.train.batch_size=1 checkpointing.load=checkpoints/re10k.ckpt"
   ]
  },
  {
   "cell_type": "code",
   "execution_count": 4,
   "metadata": {},
   "outputs": [
    {
     "name": "stdout",
     "output_type": "stream",
     "text": [
      "The autoreload extension is already loaded. To reload it, use:\n",
      "  %reload_ext autoreload\n"
     ]
    }
   ],
   "source": [
    "%load_ext autoreload\n",
    "%autoreload 2"
   ]
  },
  {
   "cell_type": "code",
   "execution_count": 3,
   "metadata": {},
   "outputs": [],
   "source": [
    "import dataset"
   ]
  },
  {
   "cell_type": "code",
   "execution_count": 6,
   "metadata": {},
   "outputs": [
    {
     "name": "stdout",
     "output_type": "stream",
     "text": [
      "[Errno 2] No such file or directory: 'diffusion-augmented-pixelsplat/'\n",
      "/teamspace/studios/this_studio/diffusion-augmented-pixelsplat\n"
     ]
    },
    {
     "name": "stderr",
     "output_type": "stream",
     "text": [
      "/home/zeus/miniconda3/envs/cloudspace/lib/python3.10/site-packages/IPython/core/magics/osm.py:393: UserWarning: using bookmarks requires you to install the `pickleshare` library.\n",
      "  bkms = self.shell.db.get('bookmarks', {})\n"
     ]
    }
   ],
   "source": [
    "%cd diffusion-augmented-pixelsplat/"
   ]
  },
  {
   "cell_type": "code",
   "execution_count": 4,
   "metadata": {},
   "outputs": [
    {
     "name": "stdout",
     "output_type": "stream",
     "text": [
      "27988\n"
     ]
    }
   ],
   "source": [
    "test_ds = dataset.get_data(\"outputs/re10k_test_data/re10k\")"
   ]
  },
  {
   "cell_type": "code",
   "execution_count": 1,
   "metadata": {},
   "outputs": [
    {
     "name": "stdout",
     "output_type": "stream",
     "text": [
      "\n",
      "    _|    _|  _|    _|    _|_|_|    _|_|_|  _|_|_|  _|      _|    _|_|_|      _|_|_|_|    _|_|      _|_|_|  _|_|_|_|\n",
      "    _|    _|  _|    _|  _|        _|          _|    _|_|    _|  _|            _|        _|    _|  _|        _|\n",
      "    _|_|_|_|  _|    _|  _|  _|_|  _|  _|_|    _|    _|  _|  _|  _|  _|_|      _|_|_|    _|_|_|_|  _|        _|_|_|\n",
      "    _|    _|  _|    _|  _|    _|  _|    _|    _|    _|    _|_|  _|    _|      _|        _|    _|  _|        _|\n",
      "    _|    _|    _|_|      _|_|_|    _|_|_|  _|_|_|  _|      _|    _|_|_|      _|        _|    _|    _|_|_|  _|_|_|_|\n",
      "\n",
      "    A token is already saved on your machine. Run `huggingface-cli whoami` to get more information or `huggingface-cli logout` if you want to log out.\n",
      "    Setting a new token will erase the existing one.\n",
      "    To login, `huggingface_hub` requires a token generated from https://huggingface.co/settings/tokens .\n",
      "Enter your token (input will not be visible): Traceback (most recent call last):\n",
      "  File \"/home/zeus/miniconda3/envs/cloudspace/bin/huggingface-cli\", line 10, in <module>\n",
      "    sys.exit(main())\n",
      "  File \"/home/zeus/miniconda3/envs/cloudspace/lib/python3.10/site-packages/huggingface_hub/commands/huggingface_cli.py\", line 49, in main\n",
      "    service.run()\n",
      "  File \"/home/zeus/miniconda3/envs/cloudspace/lib/python3.10/site-packages/huggingface_hub/commands/user.py\", line 98, in run\n",
      "    login(token=self.args.token, add_to_git_credential=self.args.add_to_git_credential)\n",
      "  File \"/home/zeus/miniconda3/envs/cloudspace/lib/python3.10/site-packages/huggingface_hub/_login.py\", line 114, in login\n",
      "    interpreter_login(new_session=new_session, write_permission=write_permission)\n",
      "  File \"/home/zeus/miniconda3/envs/cloudspace/lib/python3.10/site-packages/huggingface_hub/_login.py\", line 190, in interpreter_login\n",
      "    token = getpass(\"Enter your token (input will not be visible): \")\n",
      "  File \"/home/zeus/miniconda3/envs/cloudspace/lib/python3.10/getpass.py\", line 77, in unix_getpass\n",
      "    passwd = _raw_input(prompt, stream, input=input)\n",
      "  File \"/home/zeus/miniconda3/envs/cloudspace/lib/python3.10/getpass.py\", line 146, in _raw_input\n",
      "    line = input.readline()\n",
      "  File \"/home/zeus/miniconda3/envs/cloudspace/lib/python3.10/codecs.py\", line 319, in decode\n",
      "    def decode(self, input, final=False):\n",
      "KeyboardInterrupt\n"
     ]
    }
   ],
   "source": [
    "!huggingface-cli login"
   ]
  },
  {
   "cell_type": "code",
   "execution_count": null,
   "metadata": {},
   "outputs": [],
   "source": [
    "hf_vhhGKPOiOtcgypaNfWphCZebgWRBrEtzTHa"
   ]
  },
  {
   "cell_type": "code",
   "execution_count": 5,
   "metadata": {},
   "outputs": [
    {
     "data": {
      "application/vnd.jupyter.widget-view+json": {
       "model_id": "b5b485c7094e4fc1ac7b18102a19ab0c",
       "version_major": 2,
       "version_minor": 0
      },
      "text/plain": [
       "Uploading the dataset shards:   0%|          | 0/10 [00:00<?, ?it/s]"
      ]
     },
     "metadata": {},
     "output_type": "display_data"
    },
    {
     "data": {
      "application/vnd.jupyter.widget-view+json": {
       "model_id": "0ec665faf290460ea2de55cc3226a18d",
       "version_major": 2,
       "version_minor": 0
      },
      "text/plain": [
       "Map:   0%|          | 0/2799 [00:00<?, ? examples/s]"
      ]
     },
     "metadata": {},
     "output_type": "display_data"
    },
    {
     "data": {
      "application/vnd.jupyter.widget-view+json": {
       "model_id": "494ef9d9197f4cdca3e17957e0d2b5c5",
       "version_major": 2,
       "version_minor": 0
      },
      "text/plain": [
       "Creating parquet from Arrow format:   0%|          | 0/28 [00:00<?, ?ba/s]"
      ]
     },
     "metadata": {},
     "output_type": "display_data"
    },
    {
     "data": {
      "application/vnd.jupyter.widget-view+json": {
       "model_id": "087a2cf64a504b5bae56ad252de29179",
       "version_major": 2,
       "version_minor": 0
      },
      "text/plain": [
       "Map:   0%|          | 0/2799 [00:00<?, ? examples/s]"
      ]
     },
     "metadata": {},
     "output_type": "display_data"
    },
    {
     "data": {
      "application/vnd.jupyter.widget-view+json": {
       "model_id": "43cd83e711064f7cb77d817aa1db6a7d",
       "version_major": 2,
       "version_minor": 0
      },
      "text/plain": [
       "Creating parquet from Arrow format:   0%|          | 0/28 [00:00<?, ?ba/s]"
      ]
     },
     "metadata": {},
     "output_type": "display_data"
    },
    {
     "data": {
      "application/vnd.jupyter.widget-view+json": {
       "model_id": "24510e247b3540a39054132bcc8d3180",
       "version_major": 2,
       "version_minor": 0
      },
      "text/plain": [
       "Map:   0%|          | 0/2799 [00:00<?, ? examples/s]"
      ]
     },
     "metadata": {},
     "output_type": "display_data"
    },
    {
     "data": {
      "application/vnd.jupyter.widget-view+json": {
       "model_id": "72b51fd21c50439dbcd85911edabc785",
       "version_major": 2,
       "version_minor": 0
      },
      "text/plain": [
       "Creating parquet from Arrow format:   0%|          | 0/28 [00:00<?, ?ba/s]"
      ]
     },
     "metadata": {},
     "output_type": "display_data"
    },
    {
     "data": {
      "application/vnd.jupyter.widget-view+json": {
       "model_id": "2d56096c68c148fda10ea659d08b003b",
       "version_major": 2,
       "version_minor": 0
      },
      "text/plain": [
       "Map:   0%|          | 0/2799 [00:00<?, ? examples/s]"
      ]
     },
     "metadata": {},
     "output_type": "display_data"
    },
    {
     "data": {
      "application/vnd.jupyter.widget-view+json": {
       "model_id": "7d7b49f24f3b4b6da55e59b7fabf50d9",
       "version_major": 2,
       "version_minor": 0
      },
      "text/plain": [
       "Creating parquet from Arrow format:   0%|          | 0/28 [00:00<?, ?ba/s]"
      ]
     },
     "metadata": {},
     "output_type": "display_data"
    },
    {
     "data": {
      "application/vnd.jupyter.widget-view+json": {
       "model_id": "f378e1c437994c2fbeb98ae82c2a4648",
       "version_major": 2,
       "version_minor": 0
      },
      "text/plain": [
       "Map:   0%|          | 0/2799 [00:00<?, ? examples/s]"
      ]
     },
     "metadata": {},
     "output_type": "display_data"
    },
    {
     "data": {
      "application/vnd.jupyter.widget-view+json": {
       "model_id": "b6471b74ca36499d87e2685b7cb9a4dc",
       "version_major": 2,
       "version_minor": 0
      },
      "text/plain": [
       "Creating parquet from Arrow format:   0%|          | 0/28 [00:00<?, ?ba/s]"
      ]
     },
     "metadata": {},
     "output_type": "display_data"
    },
    {
     "data": {
      "application/vnd.jupyter.widget-view+json": {
       "model_id": "570707a9e4734f84a1c1436995d37a62",
       "version_major": 2,
       "version_minor": 0
      },
      "text/plain": [
       "Map:   0%|          | 0/2799 [00:00<?, ? examples/s]"
      ]
     },
     "metadata": {},
     "output_type": "display_data"
    },
    {
     "data": {
      "application/vnd.jupyter.widget-view+json": {
       "model_id": "5fb441308d834e87a8fe4287c9e07592",
       "version_major": 2,
       "version_minor": 0
      },
      "text/plain": [
       "Creating parquet from Arrow format:   0%|          | 0/28 [00:00<?, ?ba/s]"
      ]
     },
     "metadata": {},
     "output_type": "display_data"
    },
    {
     "data": {
      "application/vnd.jupyter.widget-view+json": {
       "model_id": "e28cef418b974c0aaf4b5af7b1245155",
       "version_major": 2,
       "version_minor": 0
      },
      "text/plain": [
       "Map:   0%|          | 0/2799 [00:00<?, ? examples/s]"
      ]
     },
     "metadata": {},
     "output_type": "display_data"
    },
    {
     "data": {
      "application/vnd.jupyter.widget-view+json": {
       "model_id": "1b466b0b6c484d65b6d3e0c6a4648e72",
       "version_major": 2,
       "version_minor": 0
      },
      "text/plain": [
       "Creating parquet from Arrow format:   0%|          | 0/28 [00:00<?, ?ba/s]"
      ]
     },
     "metadata": {},
     "output_type": "display_data"
    },
    {
     "data": {
      "application/vnd.jupyter.widget-view+json": {
       "model_id": "9e90217145c94093ae6fbeac727f5694",
       "version_major": 2,
       "version_minor": 0
      },
      "text/plain": [
       "Map:   0%|          | 0/2799 [00:00<?, ? examples/s]"
      ]
     },
     "metadata": {},
     "output_type": "display_data"
    },
    {
     "data": {
      "application/vnd.jupyter.widget-view+json": {
       "model_id": "8d30fbfb6b6e42a4a88900f6e49e6914",
       "version_major": 2,
       "version_minor": 0
      },
      "text/plain": [
       "Creating parquet from Arrow format:   0%|          | 0/28 [00:00<?, ?ba/s]"
      ]
     },
     "metadata": {},
     "output_type": "display_data"
    },
    {
     "data": {
      "application/vnd.jupyter.widget-view+json": {
       "model_id": "29bff276b80440aca8b3edb2c8a6b94f",
       "version_major": 2,
       "version_minor": 0
      },
      "text/plain": [
       "Map:   0%|          | 0/2798 [00:00<?, ? examples/s]"
      ]
     },
     "metadata": {},
     "output_type": "display_data"
    },
    {
     "data": {
      "application/vnd.jupyter.widget-view+json": {
       "model_id": "74e596f8675348eebef8978d78907253",
       "version_major": 2,
       "version_minor": 0
      },
      "text/plain": [
       "Creating parquet from Arrow format:   0%|          | 0/28 [00:00<?, ?ba/s]"
      ]
     },
     "metadata": {},
     "output_type": "display_data"
    },
    {
     "data": {
      "application/vnd.jupyter.widget-view+json": {
       "model_id": "c2bc01ce17964194aa8d0dbc341c98c7",
       "version_major": 2,
       "version_minor": 0
      },
      "text/plain": [
       "Map:   0%|          | 0/2798 [00:00<?, ? examples/s]"
      ]
     },
     "metadata": {},
     "output_type": "display_data"
    },
    {
     "data": {
      "application/vnd.jupyter.widget-view+json": {
       "model_id": "060f44574abb42fdbc9fb07934aa3371",
       "version_major": 2,
       "version_minor": 0
      },
      "text/plain": [
       "Creating parquet from Arrow format:   0%|          | 0/28 [00:00<?, ?ba/s]"
      ]
     },
     "metadata": {},
     "output_type": "display_data"
    },
    {
     "data": {
      "text/plain": [
       "CommitInfo(commit_url='https://huggingface.co/datasets/Wouter01/re10ktrain/commit/4942fcba9bd1d217908687ba38d82766d5e61984', commit_message='Upload dataset', commit_description='', oid='4942fcba9bd1d217908687ba38d82766d5e61984', pr_url=None, pr_revision=None, pr_num=None)"
      ]
     },
     "execution_count": 5,
     "metadata": {},
     "output_type": "execute_result"
    }
   ],
   "source": [
    "test_ds.push_to_hub(\"re10ktrain\", \"train\")"
   ]
  }
 ],
 "metadata": {
  "kernelspec": {
   "display_name": "cloudspace",
   "language": "python",
   "name": "python3"
  },
  "language_info": {
   "codemirror_mode": {
    "name": "ipython",
    "version": 3
   },
   "file_extension": ".py",
   "mimetype": "text/x-python",
   "name": "python",
   "nbconvert_exporter": "python",
   "pygments_lexer": "ipython3",
   "version": "3.10.10"
  }
 },
 "nbformat": 4,
 "nbformat_minor": 2
}
