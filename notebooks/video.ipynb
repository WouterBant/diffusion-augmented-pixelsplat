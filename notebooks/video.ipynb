{
 "cells": [
  {
   "cell_type": "code",
   "execution_count": null,
   "metadata": {},
   "outputs": [],
   "source": [
    "import os"
   ]
  },
  {
   "cell_type": "code",
   "execution_count": null,
   "metadata": {},
   "outputs": [],
   "source": [
    "def create_video(path_imgs, output_path, framerate=30):\n",
    "    input_pattern = os.path.join(path_imgs, \"*.png\")\n",
    "    print(input_pattern)\n",
    "    command = (\n",
    "        f'ffmpeg -y -framerate {framerate} -pattern_type glob -i \"{input_pattern}\" '\n",
    "        f'-pix_fmt yuv420p \"{output_path}\"'\n",
    "    )\n",
    "    os.system(command)"
   ]
  },
  {
   "cell_type": "code",
   "execution_count": null,
   "metadata": {},
   "outputs": [],
   "source": [
    "# for one video\n",
    "path_imgs = \"../output/images/test_re10k/0c4c5d5f751aabf5/color\" # change accordingly\n",
    "output_path = \"../output/videos/0c4c5d5f751aabf5.mp4\" # change accordingly\n",
    "create_video(path_imgs, output_path)\n"
   ]
  },
  {
   "cell_type": "code",
   "execution_count": null,
   "metadata": {},
   "outputs": [],
   "source": [
    "# for multiple videos (for a folder with multiple folders with images)\n",
    "root_folder = \"../output/images/test_re10k\" # change accordingly\n",
    "\n",
    "for item in os.listdir(root_folder):\n",
    "\n",
    "    output_path = \"../output/videos\" # change accordingly\n",
    "\n",
    "    path_imgs = os.path.join(root_folder, item)\n",
    "\n",
    "    output_path = os.path.join(output_path, item)\n",
    "    print(item)\n",
    "\n",
    "    if os.path.isdir(path_imgs):\n",
    "\n",
    "        output_path = output_path + \".mp4\"\n",
    "\n",
    "        create_video(path_imgs + \"/color\", output_path)    "
   ]
  },
  {
   "cell_type": "code",
   "execution_count": null,
   "metadata": {},
   "outputs": [],
   "source": [
    "# for the real images\n",
    "\n",
    "from PIL import Image\n",
    "import os\n",
    "\n",
    "# Directory containing JPEG images without extensions\n",
    "jpeg_folder = \"../output/images_real/jpeg\"\n",
    "\n",
    "# Directory to save PNG images\n",
    "png_folder = \"../output/images_real/png\"\n",
    "\n",
    "# Loop over each file in the JPEG folder\n",
    "for filename in os.listdir(jpeg_folder):\n",
    "    # Construct path for input image\n",
    "    jpeg_path = os.path.join(jpeg_folder, filename)\n",
    "    \n",
    "    # Check if the file is a JPEG image (you may want to add more conditions to ensure it's a valid JPEG file)\n",
    "    if os.path.isfile(jpeg_path):\n",
    "        # Construct path for output image with PNG extension\n",
    "        png_path = os.path.join(png_folder, filename + '.png')\n",
    "        \n",
    "        # Open and convert JPEG image to PNG\n",
    "        with Image.open(jpeg_path) as img:\n",
    "            img.save(png_path, 'PNG')\n"
   ]
  },
  {
   "cell_type": "code",
   "execution_count": null,
   "metadata": {},
   "outputs": [],
   "source": [
    "# for one video\n",
    "path_imgs = \"../output/images_real/png\" # change accordingly\n",
    "output_path = \"../output/videos_real/1214f2a11a9fc1ed.mp4\" # change accordingly\n",
    "create_video(path_imgs, output_path)"
   ]
  }
 ],
 "metadata": {
  "kernelspec": {
   "display_name": "cloudspace",
   "language": "python",
   "name": "python3"
  },
  "language_info": {
   "name": "python",
   "version": "3.10.14"
  }
 },
 "nbformat": 4,
 "nbformat_minor": 2
}
