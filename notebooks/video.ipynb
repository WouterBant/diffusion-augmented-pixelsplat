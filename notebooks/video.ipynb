{
 "cells": [
  {
   "cell_type": "code",
   "execution_count": null,
   "metadata": {},
   "outputs": [],
   "source": [
    "import os \n",
    "\n",
    "python3 -m src.main +experiment=re10k mode=test test.data_loader=\"test\" test.output_path=\"outputs/re10k_test_08_05\" data_loader.train.batch_size=1 checkpointing.load=checkpoints/re10k.ckpt"
   ]
  },
  {
   "cell_type": "code",
   "execution_count": null,
   "metadata": {},
   "outputs": [],
   "source": [
    "def create_video(path_imgs, output_path, framerate=30):\n",
    "    input_pattern = os.path.join(path_imgs, \"*.png\")\n",
    "    print(input_pattern)\n",
    "    command = (\n",
    "        f'ffmpeg -y -framerate {framerate} -pattern_type glob -i \"{input_pattern}\" '\n",
    "        f'-pix_fmt yuv420p \"{output_path}\"'\n",
    "    )\n",
    "    os.system(command)"
   ]
  },
  {
   "cell_type": "code",
   "execution_count": null,
   "metadata": {},
   "outputs": [],
   "source": [
    "# for one video\n",
    "path_imgs = \"../output/images/test_re10k/0c4c5d5f751aabf5/color\" # change accordingly\n",
    "output_path = \"../output/videos/0c4c5d5f751aabf5.mp4\" # change accordingly\n",
    "create_video(path_imgs, output_path)\n"
   ]
  },
  {
   "cell_type": "code",
   "execution_count": null,
   "metadata": {},
   "outputs": [],
   "source": [
    "# for multiple videos (for a folder with multiple folders with images)\n",
    "root_folder = \"../output/images/test_re10k\" # change accordingly\n",
    "\n",
    "for item in os.listdir(root_folder):\n",
    "\n",
    "    output_path = \"../output/videos\" # change accordingly\n",
    "\n",
    "    path_imgs = os.path.join(root_folder, item)\n",
    "\n",
    "    output_path = os.path.join(output_path, item)\n",
    "    print(item)\n",
    "\n",
    "    if os.path.isdir(path_imgs):\n",
    "\n",
    "        output_path = output_path + \".mp4\"\n",
    "\n",
    "        create_video(path_imgs + \"/color\", output_path)    "
   ]
  },
  {
   "cell_type": "code",
   "execution_count": null,
   "metadata": {},
   "outputs": [],
   "source": [
    "# for the real images\n",
    "\n",
    "from PIL import Image\n",
    "import os\n",
    "\n",
    "# Directory containing JPEG images without extensions\n",
    "jpeg_folder = \"../output/images_real/jpeg\"\n",
    "\n",
    "# Directory to save PNG images\n",
    "png_folder = \"../output/images_real/png\"\n",
    "\n",
    "# Loop over each file in the JPEG folder\n",
    "for filename in os.listdir(jpeg_folder):\n",
    "    # Construct path for input image\n",
    "    jpeg_path = os.path.join(jpeg_folder, filename)\n",
    "    \n",
    "    # Check if the file is a JPEG image (you may want to add more conditions to ensure it's a valid JPEG file)\n",
    "    if os.path.isfile(jpeg_path):\n",
    "        # Construct path for output image with PNG extension\n",
    "        png_path = os.path.join(png_folder, filename + '.png')\n",
    "        \n",
    "        # Open and convert JPEG image to PNG\n",
    "        with Image.open(jpeg_path) as img:\n",
    "            img.save(png_path, 'PNG')\n"
   ]
  },
  {
   "cell_type": "code",
   "execution_count": 1,
   "metadata": {},
   "outputs": [],
   "source": [
    "# for one video\n",
    "path_imgs = \"../outputs/images_real/png\" # change accordingly\n",
    "output_path = \"../outputs/videos_real/1214f2a11a9fc1ed.mp4\" # change accordingly\n",
    "create_video(path_imgs, output_path)"
   ]
  },
  {
   "cell_type": "code",
   "execution_count": 7,
   "metadata": {},
   "outputs": [
    {
     "data": {
      "text/html": [
       "<video controls  >\n",
       " <source src=\"data:None;base64,../output/videos_real/1214f2a11a9fc1ed.mp4\" type=\"None\">\n",
       " Your browser does not support the video tag.\n",
       " </video>"
      ],
      "text/plain": [
       "<IPython.core.display.Video object>"
      ]
     },
     "execution_count": 7,
     "metadata": {},
     "output_type": "execute_result"
    }
   ],
   "source": [
    "from IPython.display import Video\n",
    "Video(output_path, embed=True)"
   ]
  },
  {
   "cell_type": "code",
   "execution_count": 10,
   "metadata": {},
   "outputs": [
    {
     "name": "stdout",
     "output_type": "stream",
     "text": [
      "../output/videos_real/1214f2a11a9fc1ed.mp4: cannot open `../output/videos_real/1214f2a11a9fc1ed.mp4' (No such file or directory)\n"
     ]
    }
   ],
   "source": [
    "!file $output_path"
   ]
  },
  {
   "cell_type": "code",
   "execution_count": 21,
   "metadata": {},
   "outputs": [
    {
     "name": "stdout",
     "output_type": "stream",
     "text": [
      "\u001b[0m\u001b[01;34m2024-04-24\u001b[0m/  \u001b[01;34m2024-04-29\u001b[0m/  \u001b[01;36mlatest-run\u001b[0m@  \u001b[01;34mre10k_test_data\u001b[0m/\n"
     ]
    }
   ],
   "source": [
    "%ls ../outputs/re"
   ]
  },
  {
   "cell_type": "code",
   "execution_count": 17,
   "metadata": {},
   "outputs": [
    {
     "data": {
      "text/plain": [
       "'/teamspace/studios/this_studio/diffusion-augmented-pixelsplat/notebooks'"
      ]
     },
     "execution_count": 17,
     "metadata": {},
     "output_type": "execute_result"
    }
   ],
   "source": [
    "%pwd"
   ]
  },
  {
   "cell_type": "code",
   "execution_count": 15,
   "metadata": {},
   "outputs": [
    {
     "name": "stdout",
     "output_type": "stream",
     "text": [
      "/teamspace/studios/this_studio/diffusion-augmented-pixelsplat/notebooks\n"
     ]
    },
    {
     "name": "stderr",
     "output_type": "stream",
     "text": [
      "/home/zeus/miniconda3/envs/cloudspace/lib/python3.10/site-packages/IPython/core/magics/osm.py:417: UserWarning: using dhist requires you to install the `pickleshare` library.\n",
      "  self.shell.db['dhist'] = compress_dhist(dhist)[-100:]\n"
     ]
    }
   ],
   "source": [
    "%cd ../diffusion-augmented-pixelsplat/notebooks"
   ]
  },
  {
   "cell_type": "code",
   "execution_count": null,
   "metadata": {},
   "outputs": [],
   "source": []
  }
 ],
 "metadata": {
  "kernelspec": {
   "display_name": "cloudspace",
   "language": "python",
   "name": "python3"
  },
  "language_info": {
   "codemirror_mode": {
    "name": "ipython",
    "version": 3
   },
   "file_extension": ".py",
   "mimetype": "text/x-python",
   "name": "python",
   "nbconvert_exporter": "python",
   "pygments_lexer": "ipython3",
   "version": "3.10.10"
  }
 },
 "nbformat": 4,
 "nbformat_minor": 2
}
