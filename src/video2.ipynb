{
 "cells": [
  {
   "cell_type": "markdown",
   "metadata": {},
   "source": [
    "This notebook is to make a video grid"
   ]
  },
  {
   "cell_type": "code",
   "execution_count": 1,
   "metadata": {},
   "outputs": [],
   "source": [
    "import os\n",
    "from pathlib import Path\n",
    "import torch\n",
    "import json\n",
    "from torch import Tensor\n",
    "from jaxtyping import Float, UInt8\n",
    "from io import BytesIO\n",
    "import torchvision.transforms as tf\n",
    "from PIL import Image\n",
    "import matplotlib.pyplot as plt\n",
    "from tqdm import tqdm\n",
    "import matplotlib.image as mpimg\n",
    "import cv2\n",
    "import numpy as np\n",
    "import glob"
   ]
  },
  {
   "cell_type": "code",
   "execution_count": 2,
   "metadata": {},
   "outputs": [],
   "source": [
    "# Directories of the real data\n",
    "video_index_path = \"/teamspace/studios/this_studio/diffusion-augmented-pixelsplat/assets/evaluation_index_re10k_video.json\"\n",
    "root = Path('/teamspace/studios/this_studio/diffusion-augmented-pixelsplat/datasets/re10k_full')\n",
    "# root = Path('/teamspace/studios/re10k_data_prep/re10k')\n",
    "data_stages = [\"test\"]\n",
    "\n",
    "# Directories of the generated data such that the folders within are the room keys\n",
    "# gen_root = Path('../output/images/test_re10k')\n",
    "# gen_root = Path('/teamspace/studios/this_studio/diffusion-augmented-pixelsplat/outputs/re10k_test_hard_more/re10k')\n",
    "gen_root = Path('../outputs/re10k_test_hard_more/re10k')"
   ]
  },
  {
   "cell_type": "code",
   "execution_count": 3,
   "metadata": {},
   "outputs": [],
   "source": [
    "# number of videos you want to produce\n",
    "num_vid = 5"
   ]
  },
  {
   "cell_type": "markdown",
   "metadata": {},
   "source": [
    "The code below is to save the real images from the torch files into a folder"
   ]
  },
  {
   "cell_type": "code",
   "execution_count": 7,
   "metadata": {},
   "outputs": [
    {
     "ename": "FileNotFoundError",
     "evalue": "[Errno 2] No such file or directory: '/teamspace/studios/this_studio/diffusion-augmented-pixelsplat/datasets/re10k_full/test/index.json'",
     "output_type": "error",
     "traceback": [
      "\u001b[0;31m---------------------------------------------------------------------------\u001b[0m",
      "\u001b[0;31mFileNotFoundError\u001b[0m                         Traceback (most recent call last)",
      "Cell \u001b[0;32mIn[7], line 7\u001b[0m\n\u001b[1;32m      2\u001b[0m path_to_torch \u001b[38;5;241m=\u001b[39m []\n\u001b[1;32m      4\u001b[0m \u001b[38;5;28;01mfor\u001b[39;00m data_stage \u001b[38;5;129;01min\u001b[39;00m data_stages:\n\u001b[1;32m      5\u001b[0m     \u001b[38;5;66;03m# Load the root's index.\u001b[39;00m\n\u001b[1;32m      6\u001b[0m     \u001b[38;5;66;03m# p = Path(\"/teamspace/studios/re10k_data_prep/re10k/test/index.json\")\u001b[39;00m\n\u001b[0;32m----> 7\u001b[0m     \u001b[38;5;28;01mwith\u001b[39;00m \u001b[43m(\u001b[49m\u001b[43mroot\u001b[49m\u001b[43m \u001b[49m\u001b[38;5;241;43m/\u001b[39;49m\u001b[43m \u001b[49m\u001b[43mdata_stage\u001b[49m\u001b[43m \u001b[49m\u001b[38;5;241;43m/\u001b[39;49m\u001b[43m \u001b[49m\u001b[38;5;124;43m\"\u001b[39;49m\u001b[38;5;124;43mindex.json\u001b[39;49m\u001b[38;5;124;43m\"\u001b[39;49m\u001b[43m)\u001b[49m\u001b[38;5;241;43m.\u001b[39;49m\u001b[43mopen\u001b[49m\u001b[43m(\u001b[49m\u001b[38;5;124;43m\"\u001b[39;49m\u001b[38;5;124;43mr\u001b[39;49m\u001b[38;5;124;43m\"\u001b[39;49m\u001b[43m)\u001b[49m \u001b[38;5;28;01mas\u001b[39;00m f:\n\u001b[1;32m      8\u001b[0m     \u001b[38;5;66;03m# with (p).open(\"r\") as f:\u001b[39;00m\n\u001b[1;32m      9\u001b[0m         index \u001b[38;5;241m=\u001b[39m json\u001b[38;5;241m.\u001b[39mload(f)    \n\u001b[1;32m     10\u001b[0m     \u001b[38;5;28;01mfor\u001b[39;00m k, v \u001b[38;5;129;01min\u001b[39;00m index\u001b[38;5;241m.\u001b[39mitems():\n",
      "File \u001b[0;32m/usr/lib64/python3.12/pathlib.py:1013\u001b[0m, in \u001b[0;36mPath.open\u001b[0;34m(self, mode, buffering, encoding, errors, newline)\u001b[0m\n\u001b[1;32m   1011\u001b[0m \u001b[38;5;28;01mif\u001b[39;00m \u001b[38;5;124m\"\u001b[39m\u001b[38;5;124mb\u001b[39m\u001b[38;5;124m\"\u001b[39m \u001b[38;5;129;01mnot\u001b[39;00m \u001b[38;5;129;01min\u001b[39;00m mode:\n\u001b[1;32m   1012\u001b[0m     encoding \u001b[38;5;241m=\u001b[39m io\u001b[38;5;241m.\u001b[39mtext_encoding(encoding)\n\u001b[0;32m-> 1013\u001b[0m \u001b[38;5;28;01mreturn\u001b[39;00m \u001b[43mio\u001b[49m\u001b[38;5;241;43m.\u001b[39;49m\u001b[43mopen\u001b[49m\u001b[43m(\u001b[49m\u001b[38;5;28;43mself\u001b[39;49m\u001b[43m,\u001b[49m\u001b[43m \u001b[49m\u001b[43mmode\u001b[49m\u001b[43m,\u001b[49m\u001b[43m \u001b[49m\u001b[43mbuffering\u001b[49m\u001b[43m,\u001b[49m\u001b[43m \u001b[49m\u001b[43mencoding\u001b[49m\u001b[43m,\u001b[49m\u001b[43m \u001b[49m\u001b[43merrors\u001b[49m\u001b[43m,\u001b[49m\u001b[43m \u001b[49m\u001b[43mnewline\u001b[49m\u001b[43m)\u001b[49m\n",
      "\u001b[0;31mFileNotFoundError\u001b[0m: [Errno 2] No such file or directory: '/teamspace/studios/this_studio/diffusion-augmented-pixelsplat/datasets/re10k_full/test/index.json'"
     ]
    }
   ],
   "source": [
    "merged_index = {}\n",
    "path_to_torch = []\n",
    "\n",
    "for data_stage in data_stages:\n",
    "    # Load the root's index.\n",
    "    # p = Path(\"/teamspace/studios/re10k_data_prep/re10k/test/index.json\")\n",
    "    with (root / data_stage / \"index.json\").open(\"r\") as f:\n",
    "    # with (p).open(\"r\") as f:\n",
    "        index = json.load(f)    \n",
    "    for k, v in index.items():\n",
    "        path = Path(root / data_stage / v)\n",
    "        index[k] = path\n",
    "        if path not in path_to_torch:\n",
    "            path_to_torch.append(path)\n",
    "    # index = {k: Path(root / data_stage / v) for k, v in index.items()}\n",
    "\n",
    "    # The constituent datasets should have unique keys.\n",
    "    assert not (set(merged_index.keys()) & set(index.keys()))\n",
    "\n",
    "    # Merge the root's index into the main index.\n",
    "    merged_index = {**merged_index, **index}\n",
    "\n",
    "print(merged_index)\n",
    "print(f\"#rooms: {len(merged_index.keys())}\")\n",
    "print(path_to_torch)\n",
    "print(f\"#torch files: {len(path_to_torch)}\")\n",
    "# ../datasets/re10k/test"
   ]
  },
  {
   "cell_type": "code",
   "execution_count": 6,
   "metadata": {},
   "outputs": [],
   "source": [
    "tensor = tf.ToTensor()\n",
    "\n",
    "def convert_images(images: list[UInt8[Tensor, \"...\"]],) -> Float[Tensor, \"batch 3 height width\"]:\n",
    "    torch_images = []\n",
    "    for image in images:\n",
    "        image = Image.open(BytesIO(image.numpy().tobytes()))\n",
    "        torch_images.append(tensor(image))\n",
    "    return torch.stack(torch_images)\n",
    "\n",
    "def center_crop(\n",
    "    images: Float[Tensor, \"*#batch c h w\"],\n",
    "    shape: tuple[int, int],\n",
    ") -> tuple[\n",
    "    Float[Tensor, \"*#batch c h_out w_out\"],  # updated images\n",
    "]:\n",
    "    *_, h_in, w_in = images.shape\n",
    "    h_out, w_out = shape\n",
    "    # print(h_in, w_in, h_out, w_out)\n",
    "\n",
    "    # Note that odd input dimensions induce half-pixel misalignments.\n",
    "    row = (h_in - h_out) // 2\n",
    "    col = (w_in - w_out) // 2\n",
    "\n",
    "    # Center-crop the image.\n",
    "    images = images[..., :, row : row + h_out, col : col + w_out]\n",
    "\n",
    "    return images\n",
    "\n",
    "def save_images(path_to_torch, out_dir):\n",
    "    out_dir = Path(out_dir)\n",
    "    out_dir.mkdir(exist_ok=True, parents=True)\n",
    "\n",
    "    # num_rooms = sum(len(torch.load(path)) for path in path_to_torch)\n",
    "    # print(f\"Total amount of rooms: {num_rooms}\")\n",
    "\n",
    "    n = 0\n",
    "\n",
    "    keys = []\n",
    "\n",
    "    for path in path_to_torch:\n",
    "        chunk = torch.load(path)\n",
    "        for room in tqdm(chunk, desc=\"Processing rooms\", unit=\"room\"):\n",
    "\n",
    "            print(f\"n: {n}\")\n",
    "\n",
    "            if n >= num_vid:\n",
    "                break\n",
    "\n",
    "            key = room[\"key\"]\n",
    "            keys.append(key)\n",
    "            print(key)\n",
    "\n",
    "            images = room[\"images\"]\n",
    "            context_images = convert_images(images)\n",
    "\n",
    "            room_path = out_dir / Path(key)\n",
    "            room_path.mkdir(exist_ok=True, parents=True)\n",
    "\n",
    "            for i, image in enumerate(context_images):\n",
    "                # img = center_crop(image, (256, 256))\n",
    "                img = center_crop(image, (360, 360))\n",
    "                # break\n",
    "                image_array = img.permute(1, 2, 0).numpy()\n",
    "                image_array = (image_array * 255).astype('uint8')\n",
    "                plt.imsave(f'{room_path}/{i}.png', image_array)\n",
    "            \n",
    "            n += 1\n",
    "\n",
    "        if n >= num_vid:\n",
    "            break\n",
    "        # break\n",
    "    # break\n",
    "\n",
    "    return keys\n"
   ]
  },
  {
   "cell_type": "code",
   "execution_count": 33,
   "metadata": {},
   "outputs": [],
   "source": [
    "# Takes around 3 min\n",
    "# keys = save_images(path_to_torch, \"/teamspace/studios/this_studio/diffusion-augmented-pixelsplat/outputs/re10k_full\")"
   ]
  },
  {
   "cell_type": "markdown",
   "metadata": {},
   "source": [
    "Next cell is to create the image grids of ground truth and generated images"
   ]
  },
  {
   "cell_type": "code",
   "execution_count": 7,
   "metadata": {},
   "outputs": [],
   "source": [
    "def make_img_grid(real_dir, gen_dir, output_dir):\n",
    "    # with open(video_index_path, 'r') as file:\n",
    "    #     video_index = json.load(file)\n",
    "\n",
    "    for key_dir in tqdm(gen_dir.iterdir(), desc='Processing directories'):\n",
    "        if not key_dir.suffix.lower() == '.json':\n",
    "            key = key_dir.stem\n",
    "            output_path = Path(output_dir + f\"/{key}\")\n",
    "            output_path.mkdir(exist_ok=True, parents=True)\n",
    "\n",
    "            # target_images = video_index[key]['target'] #[-46:] # Hardcoded for now\n",
    "\n",
    "            for i, _ in enumerate((key_dir / Path(\"color\")).iterdir()):\n",
    "                # j = target_images[i]\n",
    "                gen_img_path = key_dir / Path(\"color\") / Path(f\"{i:06d}.png\")\n",
    "                # real_img_path = Path(real_dir) / Path(key) / Path(str(j) + \".png\")\n",
    "                real_img_path = Path(real_dir) / Path(key) / Path(\"target\") / Path(f\"{i:06d}.png\")\n",
    "\n",
    "                fig, axes = plt.subplots(1, 2, figsize=(10, 5)) \n",
    "\n",
    "                # Display real image\n",
    "                real_img = mpimg.imread(real_img_path)\n",
    "                axes[0].imshow(real_img)\n",
    "                axes[0].axis('off') \n",
    "                axes[0].set_title('Ground Truth')\n",
    "\n",
    "                # Display generated image\n",
    "                gen_img = mpimg.imread(gen_img_path)\n",
    "                axes[1].imshow(gen_img)\n",
    "                axes[1].axis('off')  \n",
    "                axes[1].set_title('PixelSplat') # Hardcoded for now\n",
    "\n",
    "                plt.subplots_adjust(wspace=0.05)\n",
    "                plt.savefig(output_path / Path(f\"{str(i)}.png\"), bbox_inches='tight')\n",
    "                plt.close(fig)\n",
    "\n",
    "            # break for testing for just one room\n",
    "            # break"
   ]
  },
  {
   "cell_type": "code",
   "execution_count": 9,
   "metadata": {},
   "outputs": [
    {
     "name": "stderr",
     "output_type": "stream",
     "text": [
      "Processing directories: 1it [01:26, 86.84s/it]\n"
     ]
    }
   ],
   "source": [
    "# make_img_grid(gen_root, gen_root, \"/teamspace/studios/this_studio/diffusion-augmented-pixelsplat/outputs/re10k_img_grid\")\n",
    "make_img_grid(gen_root, gen_root, \"../outputs/re10k_img_grid\")"
   ]
  },
  {
   "cell_type": "markdown",
   "metadata": {},
   "source": [
    "And now create a video out of those image grids"
   ]
  },
  {
   "cell_type": "code",
   "execution_count": 4,
   "metadata": {},
   "outputs": [],
   "source": [
    "def create_video(path_imgs, output_path, framerate=30):\n",
    "    for room in Path(path_imgs).iterdir():  \n",
    "        key = room.stem\n",
    "        output_dir = Path(output_path)\n",
    "        output_dir.mkdir(exist_ok=True, parents=True)\n",
    "\n",
    "\n",
    "        img_array = []\n",
    "        # for filename in glob.glob(f'{path_imgs}/{key}/*.png'):\n",
    "        i = 0\n",
    "        for _ in (Path(path_imgs)/Path(key)).iterdir():\n",
    "            filename = path_imgs + \"/\" + key + f\"/{i}.png\"\n",
    "            # print(filename)\n",
    "            img = cv2.imread(filename)\n",
    "            height, width, _ = img.shape\n",
    "            size = (width,height)\n",
    "            img_array.append(img)\n",
    "            i += 1\n",
    "\n",
    "        out = cv2.VideoWriter(f'{output_path}/{key}.avi',cv2.VideoWriter_fourcc(*'DIVX'), framerate, size)\n",
    "\n",
    "        for i in range(len(img_array)):\n",
    "            out.write(img_array[i])\n",
    "\n",
    "        out.release()\n"
   ]
  },
  {
   "cell_type": "code",
   "execution_count": null,
   "metadata": {},
   "outputs": [],
   "source": [
    "# create_video(\"/teamspace/studios/this_studio/diffusion-augmented-pixelsplat/outputs/re10k_img_grid\", \n",
    "#             \"/teamspace/studios/this_studio/diffusion-augmented-pixelsplat/outputs/re10k_video_grid\")\n",
    "\n",
    "\n",
    "create_video(\"../outputs/re10k_img_grid\", \n",
    "            \"../outputs/re10k_video_grid\")"
   ]
  },
  {
   "cell_type": "markdown",
   "metadata": {},
   "source": [
    "Now for ground truth, pixelsplat and instructir"
   ]
  },
  {
   "cell_type": "code",
   "execution_count": null,
   "metadata": {},
   "outputs": [],
   "source": [
    "def make_img_grid(real_dir, gen_dir, output_dir):\n",
    "    # with open(video_index_path, 'r') as file:\n",
    "    #     video_index = json.load(file)\n",
    "\n",
    "    for key_dir in tqdm(gen_dir.iterdir(), desc='Processing directories'):\n",
    "        if not key_dir.suffix.lower() == '.json':\n",
    "            key = key_dir.stem\n",
    "            output_path = Path(output_dir + f\"/{key}\")\n",
    "            output_path.mkdir(exist_ok=True, parents=True)\n",
    "\n",
    "            # target_images = video_index[key]['target'] #[-46:] # Hardcoded for now\n",
    "\n",
    "            for i, _ in enumerate((key_dir / Path(\"color\")).iterdir()):\n",
    "                # j = target_images[i]\n",
    "                gen_img_path = key_dir / Path(\"color\") / Path(f\"{i:06d}.png\")\n",
    "                # real_img_path = Path(real_dir) / Path(key) / Path(str(j) + \".png\")\n",
    "                real_img_path = Path(real_dir) / Path(key) / Path(\"target\") / Path(f\"{i:06d}.png\")\n",
    "                inst_img_path = Path(real_dir) / Path(key) / Path(\"instructir\") / Path(f\"{i:06d}.png\")                \n",
    "                cont_img_path = Path(real_dir) / Path(key) / Path(\"controlnet\") / Path(f\"{i:06d}.png\")\n",
    "\n",
    "                fig, axes = plt.subplots(1, 4, figsize=(10, 5)) \n",
    "\n",
    "                # Display real image\n",
    "                real_img = mpimg.imread(real_img_path)\n",
    "                axes[0].imshow(real_img)\n",
    "                axes[0].axis('off') \n",
    "                axes[0].set_title('Ground Truth')\n",
    "\n",
    "                # Display generated image\n",
    "                gen_img = mpimg.imread(gen_img_path)\n",
    "                axes[1].imshow(gen_img)\n",
    "                axes[1].axis('off')  \n",
    "                axes[1].set_title('PixelSplat') # Hardcoded for now\n",
    "\n",
    "                inst_img = mpimg.imread(inst_img_path)\n",
    "                axes[2].imshow(inst_img)\n",
    "                axes[2].axis('off')  \n",
    "                axes[2].set_title('InstructIR')\n",
    "\n",
    "                plt.subplots_adjust(wspace=0.05)\n",
    "                plt.savefig(output_path / Path(f\"{str(i)}.png\"), bbox_inches='tight')\n",
    "                plt.close(fig)\n",
    "\n",
    "            # break for testing for just one room\n",
    "            # break"
   ]
  },
  {
   "cell_type": "code",
   "execution_count": 5,
   "metadata": {},
   "outputs": [],
   "source": [
    "ids = ['5aca87f95a9412c6', '20d86cff490c0c42', '41abd737e0228c1a', '1214f2a11a9fc1ed', '6558c5f10d45a929', '656381bea665bf3d', '3087828bc27bc4c7', 'c48f19e2ffa52523']\n",
    "# c48f19e2ffa52523\n",
    "ids = ['5aca87f95a9412c6']\n",
    "\n",
    "ids = ['5aca87f95a9412c6', '20d86cff490c0c42', '41abd737e0228c1a', '1214f2a11a9fc1ed', '6558c5f10d45a929', '656381bea665bf3d', '3087828bc27bc4c7', 'c48f19e2ffa52523']\n"
   ]
  },
  {
   "cell_type": "code",
   "execution_count": 6,
   "metadata": {},
   "outputs": [],
   "source": [
    "def make_img_grid(real_dir, gen_dir, output_dir):\n",
    "    # with open(video_index_path, 'r') as file:\n",
    "    #     video_index = json.load(file)\n",
    "    a = False\n",
    "    for key_dir in tqdm(gen_dir.iterdir(), desc='Processing directories'):\n",
    "        # print(key_dir)\n",
    "        if not key_dir.suffix.lower() == '.json':\n",
    "            directory_path = key_dir / Path('controlnet2')\n",
    "            # print(directory_path)\n",
    "            if os.path.exists(directory_path) and key_dir.stem in ids:\n",
    "                key = key_dir.stem\n",
    "                output_path = Path(output_dir + f\"/{key}\")\n",
    "                output_path.mkdir(exist_ok=True, parents=True)\n",
    "\n",
    "                # target_images = video_index[key]['target'] #[-46:] # Hardcoded for now\n",
    "\n",
    "                for i, _ in enumerate((key_dir / Path(\"color\")).iterdir()):\n",
    "                    # j = target_images[i]\n",
    "                    gen_img_path = key_dir / Path(\"color\") / Path(f\"{i:06d}.png\")\n",
    "                    # real_img_path = Path(real_dir) / Path(key) / Path(str(j) + \".png\")\n",
    "                    real_img_path = Path(real_dir) / Path(key) / Path(\"target\") / Path(f\"{i:06d}.png\")\n",
    "                    inst_img_path = Path(real_dir) / Path(key) / Path(\"instructir2\") / Path(f\"{i:06d}.png\")                \n",
    "                    cont_img_path = Path(real_dir) / Path(key) / Path(\"controlnet2\") / Path(f\"{i:06d}.png\")\n",
    "\n",
    "\n",
    "\n",
    "                    fig, axes = plt.subplots(1, 4, figsize=(10, 5)) \n",
    "\n",
    "                    # Display real image\n",
    "                    real_img = mpimg.imread(real_img_path)\n",
    "                    axes[0].imshow(real_img)\n",
    "                    axes[0].axis('off') \n",
    "                    axes[0].set_title('Ground Truth')\n",
    "\n",
    "                    # Display generated image\n",
    "                    gen_img = mpimg.imread(gen_img_path)\n",
    "                    axes[1].imshow(gen_img)\n",
    "                    axes[1].axis('off')  \n",
    "                    axes[1].set_title('PixelSplat') # Hardcoded for now\n",
    "\n",
    "                    inst_img = mpimg.imread(inst_img_path)\n",
    "                    axes[2].imshow(inst_img)\n",
    "                    axes[2].axis('off')  \n",
    "                    axes[2].set_title('InstructIR')\n",
    "\n",
    "                    cont_img = mpimg.imread(cont_img_path)\n",
    "                    axes[3].imshow(cont_img)\n",
    "                    axes[3].axis('off')  \n",
    "                    axes[3].set_title('ControlNet')\n",
    "\n",
    "                    plt.subplots_adjust(wspace=0.05)\n",
    "                    plt.savefig(output_path / Path(f\"{str(i)}.png\"), bbox_inches='tight')\n",
    "                    plt.close(fig)\n",
    "\n",
    "            if key_dir.stem == '29e0bfbad00f0d5e':\n",
    "                a = True\n",
    "\n",
    "            # break for testing for just one room\n",
    "            # break"
   ]
  },
  {
   "cell_type": "code",
   "execution_count": 7,
   "metadata": {},
   "outputs": [],
   "source": [
    "gen_root = Path('/teamspace/studios/this_studio/diffusion-augmented-pixelsplat/outputs/re10k_test_hard_more/re10k')"
   ]
  },
  {
   "cell_type": "code",
   "execution_count": 1,
   "metadata": {},
   "outputs": [],
   "source": [
    "# 4 is with old instructir (Wouter01/instructir_hard_data, controlnet_conditioning_scale=1.0)\n",
    "# 4.2 is with better instructir (Wouter01/InstructIR_re10k_hard, controlnet_conditioning_scale=1.0)\n",
    "# 4.3 is with controlnet2 (Wouter01/InstructIR_re10k_hard, controlnet_conditioning_scale=2.0)\n",
    "# 4.4 is with controlnet3 (Wouter01/InstructIR_re10k_hard, controlnet_conditioning_scale=4.0)"
   ]
  },
  {
   "cell_type": "code",
   "execution_count": 8,
   "metadata": {},
   "outputs": [
    {
     "name": "stderr",
     "output_type": "stream",
     "text": [
      "Processing directories: 19it [06:06, 19.27s/it]\n"
     ]
    }
   ],
   "source": [
    "make_img_grid(gen_root, gen_root, \"/teamspace/studios/this_studio/diffusion-augmented-pixelsplat/outputs/re10k_img_grid_4.3\")"
   ]
  },
  {
   "cell_type": "code",
   "execution_count": 9,
   "metadata": {},
   "outputs": [],
   "source": [
    "create_video(\"/teamspace/studios/this_studio/diffusion-augmented-pixelsplat/outputs/re10k_img_grid_4.3\", \n",
    "            \"/teamspace/studios/this_studio/diffusion-augmented-pixelsplat/outputs/re10k_video_grid_4.3\")"
   ]
  },
  {
   "cell_type": "code",
   "execution_count": null,
   "metadata": {},
   "outputs": [],
   "source": []
  }
 ],
 "metadata": {
  "kernelspec": {
   "display_name": "Python 3",
   "language": "python",
   "name": "python3"
  },
  "language_info": {
   "codemirror_mode": {
    "name": "ipython",
    "version": 3
   },
   "file_extension": ".py",
   "mimetype": "text/x-python",
   "name": "python",
   "nbconvert_exporter": "python",
   "pygments_lexer": "ipython3",
   "version": "3.10.14"
  }
 },
 "nbformat": 4,
 "nbformat_minor": 2
}
